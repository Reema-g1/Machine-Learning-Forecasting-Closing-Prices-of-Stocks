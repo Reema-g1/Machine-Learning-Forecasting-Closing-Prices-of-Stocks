{
  "cells": [
    {
      "cell_type": "code",
      "execution_count": null,
      "metadata": {
        "id": "7J8N7h69RSsd"
      },
      "outputs": [],
      "source": [
        "# Machine Learning\n",
        "\n",
        "# Name: Reema Aldanish\n",
        "\n",
        "#------------------#\n",
        "# Forecasting Closing Prices of Saudi Stocks on Tadawul"
      ]
    },
    {
      "cell_type": "markdown",
      "source": [
        "<b><font size=\"4\" color='#ADA96E'>\n",
        "Dataset Link:</font></b>"
      ],
      "metadata": {
        "id": "zrbmOycqKnGE"
      }
    },
    {
      "cell_type": "markdown",
      "source": [
        "https://www.kaggle.com/datasets/salwaalzahrani/saudi-stock-exchange-tadawul"
      ],
      "metadata": {
        "id": "lcUW72HuKoLD"
      }
    },
    {
      "cell_type": "markdown",
      "metadata": {
        "id": "1yP56-gZ-b99"
      },
      "source": [
        "\n",
        "<b><font size=\"6\" color='#5097A4'>1. Preparing Data for machine learning algorithm</font></b>"
      ]
    },
    {
      "cell_type": "code",
      "execution_count": null,
      "metadata": {
        "colab": {
          "base_uri": "https://localhost:8080/"
        },
        "id": "fClhRM_ibFRN",
        "outputId": "c4ce4d60-7789-4fe2-aeb0-25fe8f0826cb"
      },
      "outputs": [
        {
          "output_type": "stream",
          "name": "stdout",
          "text": [
            "Requirement already satisfied: scikit-learn in /usr/local/lib/python3.10/dist-packages (1.2.2)\n",
            "Requirement already satisfied: numpy>=1.17.3 in /usr/local/lib/python3.10/dist-packages (from scikit-learn) (1.25.2)\n",
            "Requirement already satisfied: scipy>=1.3.2 in /usr/local/lib/python3.10/dist-packages (from scikit-learn) (1.11.4)\n",
            "Requirement already satisfied: joblib>=1.1.1 in /usr/local/lib/python3.10/dist-packages (from scikit-learn) (1.4.2)\n",
            "Requirement already satisfied: threadpoolctl>=2.0.0 in /usr/local/lib/python3.10/dist-packages (from scikit-learn) (3.5.0)\n"
          ]
        }
      ],
      "source": [
        "!pip install scikit-learn"
      ]
    },
    {
      "cell_type": "code",
      "execution_count": null,
      "metadata": {
        "colab": {
          "base_uri": "https://localhost:8080/"
        },
        "id": "XjJTyzGWg3bR",
        "outputId": "12f7fa6e-29d5-44d5-b5ed-81eac5371876"
      },
      "outputs": [
        {
          "output_type": "stream",
          "name": "stdout",
          "text": [
            "Requirement already satisfied: imbalanced-learn in /usr/local/lib/python3.10/dist-packages (0.10.1)\n",
            "Requirement already satisfied: numpy>=1.17.3 in /usr/local/lib/python3.10/dist-packages (from imbalanced-learn) (1.25.2)\n",
            "Requirement already satisfied: scipy>=1.3.2 in /usr/local/lib/python3.10/dist-packages (from imbalanced-learn) (1.11.4)\n",
            "Requirement already satisfied: scikit-learn>=1.0.2 in /usr/local/lib/python3.10/dist-packages (from imbalanced-learn) (1.2.2)\n",
            "Requirement already satisfied: joblib>=1.1.1 in /usr/local/lib/python3.10/dist-packages (from imbalanced-learn) (1.4.2)\n",
            "Requirement already satisfied: threadpoolctl>=2.0.0 in /usr/local/lib/python3.10/dist-packages (from imbalanced-learn) (3.5.0)\n"
          ]
        }
      ],
      "source": [
        "!pip install imbalanced-learn"
      ]
    },
    {
      "cell_type": "code",
      "execution_count": null,
      "metadata": {
        "id": "ja8hJakGryDt"
      },
      "outputs": [],
      "source": [
        "import numpy as np\n",
        "import pandas as pd\n",
        "import matplotlib.pyplot as plt\n",
        "import seaborn as sns\n",
        "from imblearn import under_sampling, over_sampling\n",
        "from imblearn.over_sampling import SMOTE\n",
        "from imblearn.under_sampling import RandomUnderSampler\n",
        "from imblearn.pipeline import Pipeline as imbpipeline\n",
        "from sklearn.model_selection import train_test_split\n",
        "from sklearn.naive_bayes import GaussianNB\n",
        "from sklearn import metrics\n",
        "from sklearn.metrics import classification_report, confusion_matrix\n",
        "from sklearn.preprocessing import LabelEncoder\n",
        "import sklearn.preprocessing\n",
        "from sklearn.impute import SimpleImputer\n",
        "from pandas.plotting import scatter_matrix\n",
        "from sklearn.datasets import make_classification\n",
        "import scipy.stats as stats\n",
        "from sklearn.decomposition import PCA\n",
        "from sklearn.compose import ColumnTransformer\n",
        "from sklearn.preprocessing import OneHotEncoder\n",
        "from sklearn.preprocessing import LabelBinarizer\n",
        "from sklearn import pipeline\n",
        "from sklearn.linear_model import LinearRegression\n",
        "from sklearn.preprocessing import StandardScaler, MinMaxScaler\n",
        "from sklearn.preprocessing import StandardScaler\n",
        "from sklearn.svm import LinearSVR\n",
        "from sklearn.pipeline import Pipeline\n",
        "from sklearn.metrics import mean_absolute_error, mean_squared_error, r2_score\n",
        "from sklearn.model_selection import train_test_split, RandomizedSearchCV\n",
        "from sklearn.ensemble import RandomForestRegressor\n",
        "from sklearn.metrics import mean_squared_error\n",
        "from sklearn import datasets, linear_model, metrics\n",
        "from sklearn.preprocessing import OneHotEncoder, StandardScaler\n",
        "df = pd.read_csv(\"/content/Tadawul_stcks.csv\")"
      ]
    },
    {
      "cell_type": "code",
      "execution_count": null,
      "metadata": {
        "colab": {
          "base_uri": "https://localhost:8080/"
        },
        "id": "D9Fjhrh9Sgn2",
        "outputId": "2329bd66-ba50-45e0-a192-1f8709b41fc6"
      },
      "outputs": [
        {
          "output_type": "stream",
          "name": "stdout",
          "text": [
            "(593819, 14)\n"
          ]
        }
      ],
      "source": [
        "print(df.shape)"
      ]
    },
    {
      "cell_type": "code",
      "execution_count": null,
      "metadata": {
        "colab": {
          "base_uri": "https://localhost:8080/",
          "height": 293
        },
        "id": "eHrxmcoWSt8r",
        "outputId": "120f9c65-abc7-4172-f243-f85e28fcb7c8"
      },
      "outputs": [
        {
          "output_type": "execute_result",
          "data": {
            "text/plain": [
              "   symbol                         name trading_name  sectoer        date  \\\n",
              "0    2030  Saudi Arabia Refineries Co.         SARCO  Energy  2020-03-05   \n",
              "1    2030  Saudi Arabia Refineries Co.         SARCO  Energy  2020-03-04   \n",
              "2    2030  Saudi Arabia Refineries Co.         SARCO  Energy  2020-03-03   \n",
              "3    2030  Saudi Arabia Refineries Co.         SARCO  Energy  2020-03-02   \n",
              "4    2030  Saudi Arabia Refineries Co.         SARCO  Energy  2020-03-01   \n",
              "\n",
              "    open   high    low  close  change  perc_Change  volume_traded   \\\n",
              "0  35.55  35.85  34.90  34.90   -0.40        -1.13        436609.0   \n",
              "1  34.70  35.65  34.50  35.30    0.25         0.71        737624.0   \n",
              "2  34.70  35.15  34.70  35.05    1.05         3.09        489831.0   \n",
              "3  35.20  35.65  34.00  34.00   -0.55        -1.59        736157.0   \n",
              "4  35.35  35.60  34.25  34.55   -2.05        -5.60        738685.0   \n",
              "\n",
              "   value_traded  no_trades   \n",
              "0   15399073.50       804.0  \n",
              "1   25981391.35      1268.0  \n",
              "2   17116413.40       854.0  \n",
              "3   25858700.60      1242.0  \n",
              "4   25747967.55      1625.0  "
            ],
            "text/html": [
              "\n",
              "  <div id=\"df-62306224-dbb5-4d7b-9366-365d68652989\" class=\"colab-df-container\">\n",
              "    <div>\n",
              "<style scoped>\n",
              "    .dataframe tbody tr th:only-of-type {\n",
              "        vertical-align: middle;\n",
              "    }\n",
              "\n",
              "    .dataframe tbody tr th {\n",
              "        vertical-align: top;\n",
              "    }\n",
              "\n",
              "    .dataframe thead th {\n",
              "        text-align: right;\n",
              "    }\n",
              "</style>\n",
              "<table border=\"1\" class=\"dataframe\">\n",
              "  <thead>\n",
              "    <tr style=\"text-align: right;\">\n",
              "      <th></th>\n",
              "      <th>symbol</th>\n",
              "      <th>name</th>\n",
              "      <th>trading_name</th>\n",
              "      <th>sectoer</th>\n",
              "      <th>date</th>\n",
              "      <th>open</th>\n",
              "      <th>high</th>\n",
              "      <th>low</th>\n",
              "      <th>close</th>\n",
              "      <th>change</th>\n",
              "      <th>perc_Change</th>\n",
              "      <th>volume_traded</th>\n",
              "      <th>value_traded</th>\n",
              "      <th>no_trades</th>\n",
              "    </tr>\n",
              "  </thead>\n",
              "  <tbody>\n",
              "    <tr>\n",
              "      <th>0</th>\n",
              "      <td>2030</td>\n",
              "      <td>Saudi Arabia Refineries Co.</td>\n",
              "      <td>SARCO</td>\n",
              "      <td>Energy</td>\n",
              "      <td>2020-03-05</td>\n",
              "      <td>35.55</td>\n",
              "      <td>35.85</td>\n",
              "      <td>34.90</td>\n",
              "      <td>34.90</td>\n",
              "      <td>-0.40</td>\n",
              "      <td>-1.13</td>\n",
              "      <td>436609.0</td>\n",
              "      <td>15399073.50</td>\n",
              "      <td>804.0</td>\n",
              "    </tr>\n",
              "    <tr>\n",
              "      <th>1</th>\n",
              "      <td>2030</td>\n",
              "      <td>Saudi Arabia Refineries Co.</td>\n",
              "      <td>SARCO</td>\n",
              "      <td>Energy</td>\n",
              "      <td>2020-03-04</td>\n",
              "      <td>34.70</td>\n",
              "      <td>35.65</td>\n",
              "      <td>34.50</td>\n",
              "      <td>35.30</td>\n",
              "      <td>0.25</td>\n",
              "      <td>0.71</td>\n",
              "      <td>737624.0</td>\n",
              "      <td>25981391.35</td>\n",
              "      <td>1268.0</td>\n",
              "    </tr>\n",
              "    <tr>\n",
              "      <th>2</th>\n",
              "      <td>2030</td>\n",
              "      <td>Saudi Arabia Refineries Co.</td>\n",
              "      <td>SARCO</td>\n",
              "      <td>Energy</td>\n",
              "      <td>2020-03-03</td>\n",
              "      <td>34.70</td>\n",
              "      <td>35.15</td>\n",
              "      <td>34.70</td>\n",
              "      <td>35.05</td>\n",
              "      <td>1.05</td>\n",
              "      <td>3.09</td>\n",
              "      <td>489831.0</td>\n",
              "      <td>17116413.40</td>\n",
              "      <td>854.0</td>\n",
              "    </tr>\n",
              "    <tr>\n",
              "      <th>3</th>\n",
              "      <td>2030</td>\n",
              "      <td>Saudi Arabia Refineries Co.</td>\n",
              "      <td>SARCO</td>\n",
              "      <td>Energy</td>\n",
              "      <td>2020-03-02</td>\n",
              "      <td>35.20</td>\n",
              "      <td>35.65</td>\n",
              "      <td>34.00</td>\n",
              "      <td>34.00</td>\n",
              "      <td>-0.55</td>\n",
              "      <td>-1.59</td>\n",
              "      <td>736157.0</td>\n",
              "      <td>25858700.60</td>\n",
              "      <td>1242.0</td>\n",
              "    </tr>\n",
              "    <tr>\n",
              "      <th>4</th>\n",
              "      <td>2030</td>\n",
              "      <td>Saudi Arabia Refineries Co.</td>\n",
              "      <td>SARCO</td>\n",
              "      <td>Energy</td>\n",
              "      <td>2020-03-01</td>\n",
              "      <td>35.35</td>\n",
              "      <td>35.60</td>\n",
              "      <td>34.25</td>\n",
              "      <td>34.55</td>\n",
              "      <td>-2.05</td>\n",
              "      <td>-5.60</td>\n",
              "      <td>738685.0</td>\n",
              "      <td>25747967.55</td>\n",
              "      <td>1625.0</td>\n",
              "    </tr>\n",
              "  </tbody>\n",
              "</table>\n",
              "</div>\n",
              "    <div class=\"colab-df-buttons\">\n",
              "\n",
              "  <div class=\"colab-df-container\">\n",
              "    <button class=\"colab-df-convert\" onclick=\"convertToInteractive('df-62306224-dbb5-4d7b-9366-365d68652989')\"\n",
              "            title=\"Convert this dataframe to an interactive table.\"\n",
              "            style=\"display:none;\">\n",
              "\n",
              "  <svg xmlns=\"http://www.w3.org/2000/svg\" height=\"24px\" viewBox=\"0 -960 960 960\">\n",
              "    <path d=\"M120-120v-720h720v720H120Zm60-500h600v-160H180v160Zm220 220h160v-160H400v160Zm0 220h160v-160H400v160ZM180-400h160v-160H180v160Zm440 0h160v-160H620v160ZM180-180h160v-160H180v160Zm440 0h160v-160H620v160Z\"/>\n",
              "  </svg>\n",
              "    </button>\n",
              "\n",
              "  <style>\n",
              "    .colab-df-container {\n",
              "      display:flex;\n",
              "      gap: 12px;\n",
              "    }\n",
              "\n",
              "    .colab-df-convert {\n",
              "      background-color: #E8F0FE;\n",
              "      border: none;\n",
              "      border-radius: 50%;\n",
              "      cursor: pointer;\n",
              "      display: none;\n",
              "      fill: #1967D2;\n",
              "      height: 32px;\n",
              "      padding: 0 0 0 0;\n",
              "      width: 32px;\n",
              "    }\n",
              "\n",
              "    .colab-df-convert:hover {\n",
              "      background-color: #E2EBFA;\n",
              "      box-shadow: 0px 1px 2px rgba(60, 64, 67, 0.3), 0px 1px 3px 1px rgba(60, 64, 67, 0.15);\n",
              "      fill: #174EA6;\n",
              "    }\n",
              "\n",
              "    .colab-df-buttons div {\n",
              "      margin-bottom: 4px;\n",
              "    }\n",
              "\n",
              "    [theme=dark] .colab-df-convert {\n",
              "      background-color: #3B4455;\n",
              "      fill: #D2E3FC;\n",
              "    }\n",
              "\n",
              "    [theme=dark] .colab-df-convert:hover {\n",
              "      background-color: #434B5C;\n",
              "      box-shadow: 0px 1px 3px 1px rgba(0, 0, 0, 0.15);\n",
              "      filter: drop-shadow(0px 1px 2px rgba(0, 0, 0, 0.3));\n",
              "      fill: #FFFFFF;\n",
              "    }\n",
              "  </style>\n",
              "\n",
              "    <script>\n",
              "      const buttonEl =\n",
              "        document.querySelector('#df-62306224-dbb5-4d7b-9366-365d68652989 button.colab-df-convert');\n",
              "      buttonEl.style.display =\n",
              "        google.colab.kernel.accessAllowed ? 'block' : 'none';\n",
              "\n",
              "      async function convertToInteractive(key) {\n",
              "        const element = document.querySelector('#df-62306224-dbb5-4d7b-9366-365d68652989');\n",
              "        const dataTable =\n",
              "          await google.colab.kernel.invokeFunction('convertToInteractive',\n",
              "                                                    [key], {});\n",
              "        if (!dataTable) return;\n",
              "\n",
              "        const docLinkHtml = 'Like what you see? Visit the ' +\n",
              "          '<a target=\"_blank\" href=https://colab.research.google.com/notebooks/data_table.ipynb>data table notebook</a>'\n",
              "          + ' to learn more about interactive tables.';\n",
              "        element.innerHTML = '';\n",
              "        dataTable['output_type'] = 'display_data';\n",
              "        await google.colab.output.renderOutput(dataTable, element);\n",
              "        const docLink = document.createElement('div');\n",
              "        docLink.innerHTML = docLinkHtml;\n",
              "        element.appendChild(docLink);\n",
              "      }\n",
              "    </script>\n",
              "  </div>\n",
              "\n",
              "\n",
              "<div id=\"df-effdc77f-f022-434e-bbb6-b93e5b973730\">\n",
              "  <button class=\"colab-df-quickchart\" onclick=\"quickchart('df-effdc77f-f022-434e-bbb6-b93e5b973730')\"\n",
              "            title=\"Suggest charts\"\n",
              "            style=\"display:none;\">\n",
              "\n",
              "<svg xmlns=\"http://www.w3.org/2000/svg\" height=\"24px\"viewBox=\"0 0 24 24\"\n",
              "     width=\"24px\">\n",
              "    <g>\n",
              "        <path d=\"M19 3H5c-1.1 0-2 .9-2 2v14c0 1.1.9 2 2 2h14c1.1 0 2-.9 2-2V5c0-1.1-.9-2-2-2zM9 17H7v-7h2v7zm4 0h-2V7h2v10zm4 0h-2v-4h2v4z\"/>\n",
              "    </g>\n",
              "</svg>\n",
              "  </button>\n",
              "\n",
              "<style>\n",
              "  .colab-df-quickchart {\n",
              "      --bg-color: #E8F0FE;\n",
              "      --fill-color: #1967D2;\n",
              "      --hover-bg-color: #E2EBFA;\n",
              "      --hover-fill-color: #174EA6;\n",
              "      --disabled-fill-color: #AAA;\n",
              "      --disabled-bg-color: #DDD;\n",
              "  }\n",
              "\n",
              "  [theme=dark] .colab-df-quickchart {\n",
              "      --bg-color: #3B4455;\n",
              "      --fill-color: #D2E3FC;\n",
              "      --hover-bg-color: #434B5C;\n",
              "      --hover-fill-color: #FFFFFF;\n",
              "      --disabled-bg-color: #3B4455;\n",
              "      --disabled-fill-color: #666;\n",
              "  }\n",
              "\n",
              "  .colab-df-quickchart {\n",
              "    background-color: var(--bg-color);\n",
              "    border: none;\n",
              "    border-radius: 50%;\n",
              "    cursor: pointer;\n",
              "    display: none;\n",
              "    fill: var(--fill-color);\n",
              "    height: 32px;\n",
              "    padding: 0;\n",
              "    width: 32px;\n",
              "  }\n",
              "\n",
              "  .colab-df-quickchart:hover {\n",
              "    background-color: var(--hover-bg-color);\n",
              "    box-shadow: 0 1px 2px rgba(60, 64, 67, 0.3), 0 1px 3px 1px rgba(60, 64, 67, 0.15);\n",
              "    fill: var(--button-hover-fill-color);\n",
              "  }\n",
              "\n",
              "  .colab-df-quickchart-complete:disabled,\n",
              "  .colab-df-quickchart-complete:disabled:hover {\n",
              "    background-color: var(--disabled-bg-color);\n",
              "    fill: var(--disabled-fill-color);\n",
              "    box-shadow: none;\n",
              "  }\n",
              "\n",
              "  .colab-df-spinner {\n",
              "    border: 2px solid var(--fill-color);\n",
              "    border-color: transparent;\n",
              "    border-bottom-color: var(--fill-color);\n",
              "    animation:\n",
              "      spin 1s steps(1) infinite;\n",
              "  }\n",
              "\n",
              "  @keyframes spin {\n",
              "    0% {\n",
              "      border-color: transparent;\n",
              "      border-bottom-color: var(--fill-color);\n",
              "      border-left-color: var(--fill-color);\n",
              "    }\n",
              "    20% {\n",
              "      border-color: transparent;\n",
              "      border-left-color: var(--fill-color);\n",
              "      border-top-color: var(--fill-color);\n",
              "    }\n",
              "    30% {\n",
              "      border-color: transparent;\n",
              "      border-left-color: var(--fill-color);\n",
              "      border-top-color: var(--fill-color);\n",
              "      border-right-color: var(--fill-color);\n",
              "    }\n",
              "    40% {\n",
              "      border-color: transparent;\n",
              "      border-right-color: var(--fill-color);\n",
              "      border-top-color: var(--fill-color);\n",
              "    }\n",
              "    60% {\n",
              "      border-color: transparent;\n",
              "      border-right-color: var(--fill-color);\n",
              "    }\n",
              "    80% {\n",
              "      border-color: transparent;\n",
              "      border-right-color: var(--fill-color);\n",
              "      border-bottom-color: var(--fill-color);\n",
              "    }\n",
              "    90% {\n",
              "      border-color: transparent;\n",
              "      border-bottom-color: var(--fill-color);\n",
              "    }\n",
              "  }\n",
              "</style>\n",
              "\n",
              "  <script>\n",
              "    async function quickchart(key) {\n",
              "      const quickchartButtonEl =\n",
              "        document.querySelector('#' + key + ' button');\n",
              "      quickchartButtonEl.disabled = true;  // To prevent multiple clicks.\n",
              "      quickchartButtonEl.classList.add('colab-df-spinner');\n",
              "      try {\n",
              "        const charts = await google.colab.kernel.invokeFunction(\n",
              "            'suggestCharts', [key], {});\n",
              "      } catch (error) {\n",
              "        console.error('Error during call to suggestCharts:', error);\n",
              "      }\n",
              "      quickchartButtonEl.classList.remove('colab-df-spinner');\n",
              "      quickchartButtonEl.classList.add('colab-df-quickchart-complete');\n",
              "    }\n",
              "    (() => {\n",
              "      let quickchartButtonEl =\n",
              "        document.querySelector('#df-effdc77f-f022-434e-bbb6-b93e5b973730 button');\n",
              "      quickchartButtonEl.style.display =\n",
              "        google.colab.kernel.accessAllowed ? 'block' : 'none';\n",
              "    })();\n",
              "  </script>\n",
              "</div>\n",
              "\n",
              "    </div>\n",
              "  </div>\n"
            ],
            "application/vnd.google.colaboratory.intrinsic+json": {
              "type": "dataframe",
              "variable_name": "df"
            }
          },
          "metadata": {},
          "execution_count": 6
        }
      ],
      "source": [
        "df.head()"
      ]
    },
    {
      "cell_type": "code",
      "execution_count": null,
      "metadata": {
        "colab": {
          "base_uri": "https://localhost:8080/"
        },
        "id": "yscvtdmFS0S8",
        "outputId": "0d9b7682-474d-494b-8823-4537bd8c5656"
      },
      "outputs": [
        {
          "output_type": "stream",
          "name": "stdout",
          "text": [
            "<class 'pandas.core.frame.DataFrame'>\n",
            "RangeIndex: 593819 entries, 0 to 593818\n",
            "Data columns (total 14 columns):\n",
            " #   Column          Non-Null Count   Dtype  \n",
            "---  ------          --------------   -----  \n",
            " 0   symbol          593819 non-null  int64  \n",
            " 1   name            593819 non-null  object \n",
            " 2   trading_name    593819 non-null  object \n",
            " 3   sectoer         593819 non-null  object \n",
            " 4   date            593819 non-null  object \n",
            " 5   open            587364 non-null  float64\n",
            " 6   high            587122 non-null  float64\n",
            " 7   low             587122 non-null  float64\n",
            " 8   close           593819 non-null  float64\n",
            " 9   change          593819 non-null  float64\n",
            " 10  perc_Change     593819 non-null  float64\n",
            " 11  volume_traded   593819 non-null  float64\n",
            " 12  value_traded    593819 non-null  float64\n",
            " 13  no_trades       586128 non-null  float64\n",
            "dtypes: float64(9), int64(1), object(4)\n",
            "memory usage: 63.4+ MB\n"
          ]
        }
      ],
      "source": [
        "df.info()"
      ]
    },
    {
      "cell_type": "code",
      "execution_count": null,
      "metadata": {
        "colab": {
          "base_uri": "https://localhost:8080/",
          "height": 320
        },
        "id": "cJtfDS-SWbb2",
        "outputId": "5284cf60-4896-455c-a256-e409fb3a9aac"
      },
      "outputs": [
        {
          "output_type": "execute_result",
          "data": {
            "text/plain": [
              "              symbol           open           high            low  \\\n",
              "count  593819.000000  587364.000000  587122.000000  587122.000000   \n",
              "mean     3952.684793      41.237794      41.971636      40.593406   \n",
              "std      2284.498530      86.713646      89.178183      84.562283   \n",
              "min      1010.000000       1.950000       1.950000       1.950000   \n",
              "25%      2140.000000      16.200000      16.400000      16.000000   \n",
              "50%      4004.000000      26.500000      26.905000      26.100000   \n",
              "75%      5110.000000      46.500000      47.200000      45.850000   \n",
              "max      8312.000000    6709.150000    6774.510000    6130.720000   \n",
              "\n",
              "               close         change    perc_Change  volume_traded   \\\n",
              "count  593819.000000  593819.000000  593819.000000    5.938190e+05   \n",
              "mean       40.961602       0.001174       0.035652    1.673422e+06   \n",
              "std        86.491709       4.782545       3.480783    5.482121e+06   \n",
              "min         0.000000    -681.200000    -100.000000    0.000000e+00   \n",
              "25%        16.070000      -0.250000      -0.910000    1.484920e+05   \n",
              "50%        26.300000       0.000000       0.000000    4.335560e+05   \n",
              "75%        46.200000       0.250000       0.910000    1.271184e+06   \n",
              "max      6441.180000     578.430000    1634.440000    7.976659e+08   \n",
              "\n",
              "       value_traded     no_trades   \n",
              "count  5.938190e+05  586128.000000  \n",
              "mean   5.008553e+07     960.642348  \n",
              "std    1.472969e+08    3401.794136  \n",
              "min    0.000000e+00       0.000000  \n",
              "25%    4.114858e+06     158.000000  \n",
              "50%    1.210533e+07     376.000000  \n",
              "75%    3.561017e+07     900.000000  \n",
              "max    1.586582e+10  816526.000000  "
            ],
            "text/html": [
              "\n",
              "  <div id=\"df-0ab83ad1-991d-4b5f-b760-28fbe2624f79\" class=\"colab-df-container\">\n",
              "    <div>\n",
              "<style scoped>\n",
              "    .dataframe tbody tr th:only-of-type {\n",
              "        vertical-align: middle;\n",
              "    }\n",
              "\n",
              "    .dataframe tbody tr th {\n",
              "        vertical-align: top;\n",
              "    }\n",
              "\n",
              "    .dataframe thead th {\n",
              "        text-align: right;\n",
              "    }\n",
              "</style>\n",
              "<table border=\"1\" class=\"dataframe\">\n",
              "  <thead>\n",
              "    <tr style=\"text-align: right;\">\n",
              "      <th></th>\n",
              "      <th>symbol</th>\n",
              "      <th>open</th>\n",
              "      <th>high</th>\n",
              "      <th>low</th>\n",
              "      <th>close</th>\n",
              "      <th>change</th>\n",
              "      <th>perc_Change</th>\n",
              "      <th>volume_traded</th>\n",
              "      <th>value_traded</th>\n",
              "      <th>no_trades</th>\n",
              "    </tr>\n",
              "  </thead>\n",
              "  <tbody>\n",
              "    <tr>\n",
              "      <th>count</th>\n",
              "      <td>593819.000000</td>\n",
              "      <td>587364.000000</td>\n",
              "      <td>587122.000000</td>\n",
              "      <td>587122.000000</td>\n",
              "      <td>593819.000000</td>\n",
              "      <td>593819.000000</td>\n",
              "      <td>593819.000000</td>\n",
              "      <td>5.938190e+05</td>\n",
              "      <td>5.938190e+05</td>\n",
              "      <td>586128.000000</td>\n",
              "    </tr>\n",
              "    <tr>\n",
              "      <th>mean</th>\n",
              "      <td>3952.684793</td>\n",
              "      <td>41.237794</td>\n",
              "      <td>41.971636</td>\n",
              "      <td>40.593406</td>\n",
              "      <td>40.961602</td>\n",
              "      <td>0.001174</td>\n",
              "      <td>0.035652</td>\n",
              "      <td>1.673422e+06</td>\n",
              "      <td>5.008553e+07</td>\n",
              "      <td>960.642348</td>\n",
              "    </tr>\n",
              "    <tr>\n",
              "      <th>std</th>\n",
              "      <td>2284.498530</td>\n",
              "      <td>86.713646</td>\n",
              "      <td>89.178183</td>\n",
              "      <td>84.562283</td>\n",
              "      <td>86.491709</td>\n",
              "      <td>4.782545</td>\n",
              "      <td>3.480783</td>\n",
              "      <td>5.482121e+06</td>\n",
              "      <td>1.472969e+08</td>\n",
              "      <td>3401.794136</td>\n",
              "    </tr>\n",
              "    <tr>\n",
              "      <th>min</th>\n",
              "      <td>1010.000000</td>\n",
              "      <td>1.950000</td>\n",
              "      <td>1.950000</td>\n",
              "      <td>1.950000</td>\n",
              "      <td>0.000000</td>\n",
              "      <td>-681.200000</td>\n",
              "      <td>-100.000000</td>\n",
              "      <td>0.000000e+00</td>\n",
              "      <td>0.000000e+00</td>\n",
              "      <td>0.000000</td>\n",
              "    </tr>\n",
              "    <tr>\n",
              "      <th>25%</th>\n",
              "      <td>2140.000000</td>\n",
              "      <td>16.200000</td>\n",
              "      <td>16.400000</td>\n",
              "      <td>16.000000</td>\n",
              "      <td>16.070000</td>\n",
              "      <td>-0.250000</td>\n",
              "      <td>-0.910000</td>\n",
              "      <td>1.484920e+05</td>\n",
              "      <td>4.114858e+06</td>\n",
              "      <td>158.000000</td>\n",
              "    </tr>\n",
              "    <tr>\n",
              "      <th>50%</th>\n",
              "      <td>4004.000000</td>\n",
              "      <td>26.500000</td>\n",
              "      <td>26.905000</td>\n",
              "      <td>26.100000</td>\n",
              "      <td>26.300000</td>\n",
              "      <td>0.000000</td>\n",
              "      <td>0.000000</td>\n",
              "      <td>4.335560e+05</td>\n",
              "      <td>1.210533e+07</td>\n",
              "      <td>376.000000</td>\n",
              "    </tr>\n",
              "    <tr>\n",
              "      <th>75%</th>\n",
              "      <td>5110.000000</td>\n",
              "      <td>46.500000</td>\n",
              "      <td>47.200000</td>\n",
              "      <td>45.850000</td>\n",
              "      <td>46.200000</td>\n",
              "      <td>0.250000</td>\n",
              "      <td>0.910000</td>\n",
              "      <td>1.271184e+06</td>\n",
              "      <td>3.561017e+07</td>\n",
              "      <td>900.000000</td>\n",
              "    </tr>\n",
              "    <tr>\n",
              "      <th>max</th>\n",
              "      <td>8312.000000</td>\n",
              "      <td>6709.150000</td>\n",
              "      <td>6774.510000</td>\n",
              "      <td>6130.720000</td>\n",
              "      <td>6441.180000</td>\n",
              "      <td>578.430000</td>\n",
              "      <td>1634.440000</td>\n",
              "      <td>7.976659e+08</td>\n",
              "      <td>1.586582e+10</td>\n",
              "      <td>816526.000000</td>\n",
              "    </tr>\n",
              "  </tbody>\n",
              "</table>\n",
              "</div>\n",
              "    <div class=\"colab-df-buttons\">\n",
              "\n",
              "  <div class=\"colab-df-container\">\n",
              "    <button class=\"colab-df-convert\" onclick=\"convertToInteractive('df-0ab83ad1-991d-4b5f-b760-28fbe2624f79')\"\n",
              "            title=\"Convert this dataframe to an interactive table.\"\n",
              "            style=\"display:none;\">\n",
              "\n",
              "  <svg xmlns=\"http://www.w3.org/2000/svg\" height=\"24px\" viewBox=\"0 -960 960 960\">\n",
              "    <path d=\"M120-120v-720h720v720H120Zm60-500h600v-160H180v160Zm220 220h160v-160H400v160Zm0 220h160v-160H400v160ZM180-400h160v-160H180v160Zm440 0h160v-160H620v160ZM180-180h160v-160H180v160Zm440 0h160v-160H620v160Z\"/>\n",
              "  </svg>\n",
              "    </button>\n",
              "\n",
              "  <style>\n",
              "    .colab-df-container {\n",
              "      display:flex;\n",
              "      gap: 12px;\n",
              "    }\n",
              "\n",
              "    .colab-df-convert {\n",
              "      background-color: #E8F0FE;\n",
              "      border: none;\n",
              "      border-radius: 50%;\n",
              "      cursor: pointer;\n",
              "      display: none;\n",
              "      fill: #1967D2;\n",
              "      height: 32px;\n",
              "      padding: 0 0 0 0;\n",
              "      width: 32px;\n",
              "    }\n",
              "\n",
              "    .colab-df-convert:hover {\n",
              "      background-color: #E2EBFA;\n",
              "      box-shadow: 0px 1px 2px rgba(60, 64, 67, 0.3), 0px 1px 3px 1px rgba(60, 64, 67, 0.15);\n",
              "      fill: #174EA6;\n",
              "    }\n",
              "\n",
              "    .colab-df-buttons div {\n",
              "      margin-bottom: 4px;\n",
              "    }\n",
              "\n",
              "    [theme=dark] .colab-df-convert {\n",
              "      background-color: #3B4455;\n",
              "      fill: #D2E3FC;\n",
              "    }\n",
              "\n",
              "    [theme=dark] .colab-df-convert:hover {\n",
              "      background-color: #434B5C;\n",
              "      box-shadow: 0px 1px 3px 1px rgba(0, 0, 0, 0.15);\n",
              "      filter: drop-shadow(0px 1px 2px rgba(0, 0, 0, 0.3));\n",
              "      fill: #FFFFFF;\n",
              "    }\n",
              "  </style>\n",
              "\n",
              "    <script>\n",
              "      const buttonEl =\n",
              "        document.querySelector('#df-0ab83ad1-991d-4b5f-b760-28fbe2624f79 button.colab-df-convert');\n",
              "      buttonEl.style.display =\n",
              "        google.colab.kernel.accessAllowed ? 'block' : 'none';\n",
              "\n",
              "      async function convertToInteractive(key) {\n",
              "        const element = document.querySelector('#df-0ab83ad1-991d-4b5f-b760-28fbe2624f79');\n",
              "        const dataTable =\n",
              "          await google.colab.kernel.invokeFunction('convertToInteractive',\n",
              "                                                    [key], {});\n",
              "        if (!dataTable) return;\n",
              "\n",
              "        const docLinkHtml = 'Like what you see? Visit the ' +\n",
              "          '<a target=\"_blank\" href=https://colab.research.google.com/notebooks/data_table.ipynb>data table notebook</a>'\n",
              "          + ' to learn more about interactive tables.';\n",
              "        element.innerHTML = '';\n",
              "        dataTable['output_type'] = 'display_data';\n",
              "        await google.colab.output.renderOutput(dataTable, element);\n",
              "        const docLink = document.createElement('div');\n",
              "        docLink.innerHTML = docLinkHtml;\n",
              "        element.appendChild(docLink);\n",
              "      }\n",
              "    </script>\n",
              "  </div>\n",
              "\n",
              "\n",
              "<div id=\"df-c006d3e5-1138-4d85-b818-b7447ecdba08\">\n",
              "  <button class=\"colab-df-quickchart\" onclick=\"quickchart('df-c006d3e5-1138-4d85-b818-b7447ecdba08')\"\n",
              "            title=\"Suggest charts\"\n",
              "            style=\"display:none;\">\n",
              "\n",
              "<svg xmlns=\"http://www.w3.org/2000/svg\" height=\"24px\"viewBox=\"0 0 24 24\"\n",
              "     width=\"24px\">\n",
              "    <g>\n",
              "        <path d=\"M19 3H5c-1.1 0-2 .9-2 2v14c0 1.1.9 2 2 2h14c1.1 0 2-.9 2-2V5c0-1.1-.9-2-2-2zM9 17H7v-7h2v7zm4 0h-2V7h2v10zm4 0h-2v-4h2v4z\"/>\n",
              "    </g>\n",
              "</svg>\n",
              "  </button>\n",
              "\n",
              "<style>\n",
              "  .colab-df-quickchart {\n",
              "      --bg-color: #E8F0FE;\n",
              "      --fill-color: #1967D2;\n",
              "      --hover-bg-color: #E2EBFA;\n",
              "      --hover-fill-color: #174EA6;\n",
              "      --disabled-fill-color: #AAA;\n",
              "      --disabled-bg-color: #DDD;\n",
              "  }\n",
              "\n",
              "  [theme=dark] .colab-df-quickchart {\n",
              "      --bg-color: #3B4455;\n",
              "      --fill-color: #D2E3FC;\n",
              "      --hover-bg-color: #434B5C;\n",
              "      --hover-fill-color: #FFFFFF;\n",
              "      --disabled-bg-color: #3B4455;\n",
              "      --disabled-fill-color: #666;\n",
              "  }\n",
              "\n",
              "  .colab-df-quickchart {\n",
              "    background-color: var(--bg-color);\n",
              "    border: none;\n",
              "    border-radius: 50%;\n",
              "    cursor: pointer;\n",
              "    display: none;\n",
              "    fill: var(--fill-color);\n",
              "    height: 32px;\n",
              "    padding: 0;\n",
              "    width: 32px;\n",
              "  }\n",
              "\n",
              "  .colab-df-quickchart:hover {\n",
              "    background-color: var(--hover-bg-color);\n",
              "    box-shadow: 0 1px 2px rgba(60, 64, 67, 0.3), 0 1px 3px 1px rgba(60, 64, 67, 0.15);\n",
              "    fill: var(--button-hover-fill-color);\n",
              "  }\n",
              "\n",
              "  .colab-df-quickchart-complete:disabled,\n",
              "  .colab-df-quickchart-complete:disabled:hover {\n",
              "    background-color: var(--disabled-bg-color);\n",
              "    fill: var(--disabled-fill-color);\n",
              "    box-shadow: none;\n",
              "  }\n",
              "\n",
              "  .colab-df-spinner {\n",
              "    border: 2px solid var(--fill-color);\n",
              "    border-color: transparent;\n",
              "    border-bottom-color: var(--fill-color);\n",
              "    animation:\n",
              "      spin 1s steps(1) infinite;\n",
              "  }\n",
              "\n",
              "  @keyframes spin {\n",
              "    0% {\n",
              "      border-color: transparent;\n",
              "      border-bottom-color: var(--fill-color);\n",
              "      border-left-color: var(--fill-color);\n",
              "    }\n",
              "    20% {\n",
              "      border-color: transparent;\n",
              "      border-left-color: var(--fill-color);\n",
              "      border-top-color: var(--fill-color);\n",
              "    }\n",
              "    30% {\n",
              "      border-color: transparent;\n",
              "      border-left-color: var(--fill-color);\n",
              "      border-top-color: var(--fill-color);\n",
              "      border-right-color: var(--fill-color);\n",
              "    }\n",
              "    40% {\n",
              "      border-color: transparent;\n",
              "      border-right-color: var(--fill-color);\n",
              "      border-top-color: var(--fill-color);\n",
              "    }\n",
              "    60% {\n",
              "      border-color: transparent;\n",
              "      border-right-color: var(--fill-color);\n",
              "    }\n",
              "    80% {\n",
              "      border-color: transparent;\n",
              "      border-right-color: var(--fill-color);\n",
              "      border-bottom-color: var(--fill-color);\n",
              "    }\n",
              "    90% {\n",
              "      border-color: transparent;\n",
              "      border-bottom-color: var(--fill-color);\n",
              "    }\n",
              "  }\n",
              "</style>\n",
              "\n",
              "  <script>\n",
              "    async function quickchart(key) {\n",
              "      const quickchartButtonEl =\n",
              "        document.querySelector('#' + key + ' button');\n",
              "      quickchartButtonEl.disabled = true;  // To prevent multiple clicks.\n",
              "      quickchartButtonEl.classList.add('colab-df-spinner');\n",
              "      try {\n",
              "        const charts = await google.colab.kernel.invokeFunction(\n",
              "            'suggestCharts', [key], {});\n",
              "      } catch (error) {\n",
              "        console.error('Error during call to suggestCharts:', error);\n",
              "      }\n",
              "      quickchartButtonEl.classList.remove('colab-df-spinner');\n",
              "      quickchartButtonEl.classList.add('colab-df-quickchart-complete');\n",
              "    }\n",
              "    (() => {\n",
              "      let quickchartButtonEl =\n",
              "        document.querySelector('#df-c006d3e5-1138-4d85-b818-b7447ecdba08 button');\n",
              "      quickchartButtonEl.style.display =\n",
              "        google.colab.kernel.accessAllowed ? 'block' : 'none';\n",
              "    })();\n",
              "  </script>\n",
              "</div>\n",
              "\n",
              "    </div>\n",
              "  </div>\n"
            ],
            "application/vnd.google.colaboratory.intrinsic+json": {
              "type": "dataframe",
              "summary": "{\n  \"name\": \"df\",\n  \"rows\": 8,\n  \"fields\": [\n    {\n      \"column\": \"symbol\",\n      \"properties\": {\n        \"dtype\": \"number\",\n        \"std\": 208604.4247577636,\n        \"min\": 1010.0,\n        \"max\": 593819.0,\n        \"num_unique_values\": 8,\n        \"samples\": [\n          3952.684792840916,\n          4004.0,\n          593819.0\n        ],\n        \"semantic_type\": \"\",\n        \"description\": \"\"\n      }\n    },\n    {\n      \"column\": \"open\",\n      \"properties\": {\n        \"dtype\": \"number\",\n        \"std\": 207327.7541633797,\n        \"min\": 1.95,\n        \"max\": 587364.0,\n        \"num_unique_values\": 8,\n        \"samples\": [\n          41.23779426386364,\n          26.5,\n          587364.0\n        ],\n        \"semantic_type\": \"\",\n        \"description\": \"\"\n      }\n    },\n    {\n      \"column\": \"high\",\n      \"properties\": {\n        \"dtype\": \"number\",\n        \"std\": 207238.92731217394,\n        \"min\": 1.95,\n        \"max\": 587122.0,\n        \"num_unique_values\": 8,\n        \"samples\": [\n          41.971636014320715,\n          26.905,\n          587122.0\n        ],\n        \"semantic_type\": \"\",\n        \"description\": \"\"\n      }\n    },\n    {\n      \"column\": \"low\",\n      \"properties\": {\n        \"dtype\": \"number\",\n        \"std\": 207269.4382942983,\n        \"min\": 1.95,\n        \"max\": 587122.0,\n        \"num_unique_values\": 8,\n        \"samples\": [\n          40.59340627671933,\n          26.1,\n          587122.0\n        ],\n        \"semantic_type\": \"\",\n        \"description\": \"\"\n      }\n    },\n    {\n      \"column\": \"close\",\n      \"properties\": {\n        \"dtype\": \"number\",\n        \"std\": 209622.4657265962,\n        \"min\": 0.0,\n        \"max\": 593819.0,\n        \"num_unique_values\": 8,\n        \"samples\": [\n          40.961601615980626,\n          26.3,\n          593819.0\n        ],\n        \"semantic_type\": \"\",\n        \"description\": \"\"\n      }\n    },\n    {\n      \"column\": \"change\",\n      \"properties\": {\n        \"dtype\": \"number\",\n        \"std\": 209951.94114446273,\n        \"min\": -681.2,\n        \"max\": 593819.0,\n        \"num_unique_values\": 8,\n        \"samples\": [\n          0.0011741793374748875,\n          0.0,\n          593819.0\n        ],\n        \"semantic_type\": \"\",\n        \"description\": \"\"\n      }\n    },\n    {\n      \"column\": \"perc_Change\",\n      \"properties\": {\n        \"dtype\": \"number\",\n        \"std\": 209869.83992532623,\n        \"min\": -100.0,\n        \"max\": 593819.0,\n        \"num_unique_values\": 8,\n        \"samples\": [\n          0.03565180635850317,\n          0.0,\n          593819.0\n        ],\n        \"semantic_type\": \"\",\n        \"description\": \"\"\n      }\n    },\n    {\n      \"column\": \"volume_traded \",\n      \"properties\": {\n        \"dtype\": \"number\",\n        \"std\": 281538013.2899132,\n        \"min\": 0.0,\n        \"max\": 797665866.0,\n        \"num_unique_values\": 8,\n        \"samples\": [\n          1673421.7360677244,\n          433556.0,\n          593819.0\n        ],\n        \"semantic_type\": \"\",\n        \"description\": \"\"\n      }\n    },\n    {\n      \"column\": \"value_traded\",\n      \"properties\": {\n        \"dtype\": \"number\",\n        \"std\": 5597011751.789125,\n        \"min\": 0.0,\n        \"max\": 15865822896.55,\n        \"num_unique_values\": 8,\n        \"samples\": [\n          50085532.398520485,\n          12105328.5,\n          593819.0\n        ],\n        \"semantic_type\": \"\",\n        \"description\": \"\"\n      }\n    },\n    {\n      \"column\": \"no_trades \",\n      \"properties\": {\n        \"dtype\": \"number\",\n        \"std\": 330001.65225410333,\n        \"min\": 0.0,\n        \"max\": 816526.0,\n        \"num_unique_values\": 8,\n        \"samples\": [\n          960.6423477465673,\n          376.0,\n          586128.0\n        ],\n        \"semantic_type\": \"\",\n        \"description\": \"\"\n      }\n    }\n  ]\n}"
            }
          },
          "metadata": {},
          "execution_count": 8
        }
      ],
      "source": [
        "df.describe()"
      ]
    },
    {
      "cell_type": "markdown",
      "source": [
        "Basic statistics for numerical features"
      ],
      "metadata": {
        "id": "JVFFAvpOaGHB"
      }
    },
    {
      "cell_type": "code",
      "execution_count": null,
      "metadata": {
        "colab": {
          "base_uri": "https://localhost:8080/"
        },
        "id": "eq5HFx_3Wnht",
        "outputId": "1f563c24-7ed7-46a0-fd00-690acc5bbe71"
      },
      "outputs": [
        {
          "output_type": "execute_result",
          "data": {
            "text/plain": [
              "sectoer\n",
              "Financials                154259\n",
              "Materials                 142283\n",
              "Consumer Staples           66008\n",
              "Industrials                64733\n",
              "Consumer Discretionary     55688\n",
              "Real Estate                44663\n",
              "Communication Services     22170\n",
              "Health Care                17855\n",
              "Energy                     15803\n",
              "Utilities                   9386\n",
              "Information Technology       971\n",
              "Name: count, dtype: int64"
            ]
          },
          "metadata": {},
          "execution_count": 9
        }
      ],
      "source": [
        "sectoer_values = df['sectoer'].value_counts()\n",
        "sectoer_values"
      ]
    },
    {
      "cell_type": "markdown",
      "source": [
        "Calculate the frequency distribution for categorical features"
      ],
      "metadata": {
        "id": "G-G7cSeBaMGo"
      }
    },
    {
      "cell_type": "markdown",
      "metadata": {
        "id": "8maiMOI1-kji"
      },
      "source": [
        "<b><font size=\"5:\" color='#5097A4'>a. Handling Missing Values:</font></b>"
      ]
    },
    {
      "cell_type": "code",
      "execution_count": null,
      "metadata": {
        "colab": {
          "base_uri": "https://localhost:8080/"
        },
        "id": "D4P9qg7z5Gfw",
        "outputId": "97ae24e9-9c73-4fff-ffdd-911d085f6230"
      },
      "outputs": [
        {
          "output_type": "stream",
          "name": "stdout",
          "text": [
            "Percentage of missing values per column:\n",
            " symbol            0.000000\n",
            "name              0.000000\n",
            "trading_name      0.000000\n",
            "sectoer           0.000000\n",
            "date              0.000000\n",
            "open              1.087032\n",
            "high              1.127785\n",
            "low               1.127785\n",
            "close             0.000000\n",
            "change            0.000000\n",
            "perc_Change       0.000000\n",
            "volume_traded     0.000000\n",
            "value_traded      0.000000\n",
            "no_trades         1.295176\n",
            "dtype: float64\n",
            "\n",
            "The missing values in imputed dataset:\n",
            "symbol            0\n",
            "open              0\n",
            "high              0\n",
            "low               0\n",
            "close             0\n",
            "change            0\n",
            "perc_Change       0\n",
            "volume_traded     0\n",
            "value_traded      0\n",
            "no_trades         0\n",
            "dtype: int64\n"
          ]
        }
      ],
      "source": [
        "missing_values = df.isnull().sum()\n",
        "missing_percentage = (missing_values / len(df)) * 100\n",
        "print(\"Percentage of missing values per column:\\n\", missing_percentage)\n",
        "num_cols = df.select_dtypes(include=[np.number]).columns\n",
        "imr = SimpleImputer(strategy='mean')\n",
        "imputed_data = imr.fit_transform(df[num_cols])\n",
        "imputed_dataset = pd.DataFrame(imputed_data, columns=num_cols)\n",
        "print(\"\\nThe missing values in imputed dataset:\")\n",
        "print(imputed_dataset.isnull().sum())"
      ]
    },
    {
      "cell_type": "markdown",
      "metadata": {
        "id": "pjMhvPk-XuAy"
      },
      "source": [
        "To address missing values in the data, SimpleImputer from sklearn was used to fill these gaps with the mean in numerical columns. These columns were identified, imputation applied, and the modified data was then converted back into a new DataFrame, resulting in a dataset without missing values."
      ]
    },
    {
      "cell_type": "code",
      "execution_count": null,
      "metadata": {
        "colab": {
          "base_uri": "https://localhost:8080/",
          "height": 505
        },
        "id": "NPbe9k034eaX",
        "outputId": "ff8d4386-bca6-43de-cf52-84ce13bce656"
      },
      "outputs": [
        {
          "output_type": "display_data",
          "data": {
            "text/plain": [
              "<Figure size 1400x600 with 2 Axes>"
            ],
            "image/png": "[encoded data removed]"
          },
          "metadata": {}
        }
      ],
      "source": [
        "Q1 = df['value_traded'].quantile(0.22)\n",
        "Q3 = df['value_traded'].quantile(0.60)\n",
        "IQR = Q3 - Q1\n",
        "outlier_lower = Q1 - 1 * IQR\n",
        "outlier_upper = Q3 + 1 * IQR\n",
        "data_filtered = df[(df['value_traded'] >= outlier_lower) & (df['value_traded'] <= outlier_upper)]\n",
        "fig, axes = plt.subplots(1, 2, figsize=(14, 6))\n",
        "sns.histplot(df['value_traded'], bins=30, ax=axes[0], kde=True)\n",
        "axes[0].set_title('Original Value Traded')\n",
        "axes[0].set_xlabel('Value Traded')\n",
        "axes[0].set_ylabel('Frequency')\n",
        "sns.histplot(data_filtered['value_traded'], bins=30, ax=axes[1], kde=True)\n",
        "axes[1].set_title('Value Traded After Removing Outliers')\n",
        "axes[1].set_xlabel('Value Traded')\n",
        "axes[1].set_ylabel('Frequency')\n",
        "plt.tight_layout()\n",
        "plt.show()"
      ]
    },
    {
      "cell_type": "markdown",
      "metadata": {
        "id": "FY8_cRPp-qTn"
      },
      "source": [
        "<b><font size=\"5:\" color='#5097A4'>b. Encoding Categorical Variables:</font></b>"
      ]
    },
    {
      "cell_type": "code",
      "execution_count": null,
      "metadata": {
        "colab": {
          "base_uri": "https://localhost:8080/"
        },
        "id": "ylFh8WPTr4K2",
        "outputId": "9c859cb8-dc99-4b6b-e83e-960c8f6e2e5e"
      },
      "outputs": [
        {
          "output_type": "stream",
          "name": "stdout",
          "text": [
            "symbol              int64\n",
            "name               object\n",
            "trading_name       object\n",
            "sectoer            object\n",
            "date               object\n",
            "open              float64\n",
            "high              float64\n",
            "low               float64\n",
            "close             float64\n",
            "change            float64\n",
            "perc_Change       float64\n",
            "volume_traded     float64\n",
            "value_traded      float64\n",
            "no_trades         float64\n",
            "dtype: object\n"
          ]
        }
      ],
      "source": [
        "print(df.dtypes)"
      ]
    },
    {
      "cell_type": "code",
      "execution_count": null,
      "metadata": {
        "colab": {
          "base_uri": "https://localhost:8080/"
        },
        "id": "0sDIAvtRAJbY",
        "outputId": "d2c94f23-9a62-4450-b5c2-dd38c7971d96"
      },
      "outputs": [
        {
          "output_type": "stream",
          "name": "stdout",
          "text": [
            "   symbol  name  trading_name   sectoer  date   open   high    low  close  \\\n",
            "0    2030   133            144        3  4758  35.55  35.85  34.90  34.90   \n",
            "1    2030   133            144        3  4757  34.70  35.65  34.50  35.30   \n",
            "2    2030   133            144        3  4756  34.70  35.15  34.70  35.05   \n",
            "3    2030   133            144        3  4755  35.20  35.65  34.00  34.00   \n",
            "4    2030   133            144        3  4754  35.35  35.60  34.25  34.55   \n",
            "\n",
            "   change  perc_Change  volume_traded   value_traded  no_trades   \n",
            "0   -0.40        -1.13        436609.0   15399073.50       804.0  \n",
            "1    0.25         0.71        737624.0   25981391.35      1268.0  \n",
            "2    1.05         3.09        489831.0   17116413.40       854.0  \n",
            "3   -0.55        -1.59        736157.0   25858700.60      1242.0  \n",
            "4   -2.05        -5.60        738685.0   25747967.55      1625.0  \n"
          ]
        }
      ],
      "source": [
        "label_encoder = LabelEncoder()\n",
        "for column in df.select_dtypes(include=['object']).columns:\n",
        "    df[column] = df[column].astype(str)\n",
        "    df[column] = label_encoder.fit_transform(df[column])\n",
        "print(df.head())"
      ]
    },
    {
      "cell_type": "code",
      "execution_count": null,
      "metadata": {
        "colab": {
          "base_uri": "https://localhost:8080/"
        },
        "id": "DuI9JJVDFDTV",
        "outputId": "26cd2ef9-b850-43c6-b747-d76c73a422e1"
      },
      "outputs": [
        {
          "output_type": "stream",
          "name": "stdout",
          "text": [
            "symbol              int64\n",
            "name                int64\n",
            "trading_name        int64\n",
            "sectoer             int64\n",
            "date                int64\n",
            "open              float64\n",
            "high              float64\n",
            "low               float64\n",
            "close             float64\n",
            "change            float64\n",
            "perc_Change       float64\n",
            "volume_traded     float64\n",
            "value_traded      float64\n",
            "no_trades         float64\n",
            "dtype: object\n"
          ]
        }
      ],
      "source": [
        "print(df.dtypes)"
      ]
    },
    {
      "cell_type": "markdown",
      "metadata": {
        "id": "d2IS3G2bZ6NL"
      },
      "source": [
        "\n",
        "The data originally contained text columns that could not be directly processed in predictive or statistical models. After using label encoding, the data now contains numeric columns, where each text value has been converted to a unique number, facilitating their use in analyses and statistical models."
      ]
    },
    {
      "cell_type": "markdown",
      "metadata": {
        "id": "cWrSKsEN-xF1"
      },
      "source": [
        "<b><font size=\"5:\" color='#5097A4'>c. Scaling Numerical Features:</font></b>"
      ]
    },
    {
      "cell_type": "code",
      "execution_count": null,
      "metadata": {
        "colab": {
          "base_uri": "https://localhost:8080/"
        },
        "id": "sYmbqjQBr5OT",
        "outputId": "bda8841d-ab22-48c6-ab3f-f25e95695d35"
      },
      "outputs": [
        {
          "output_type": "stream",
          "name": "stdout",
          "text": [
            "        symbol  name  trading_name   sectoer  date   open   high    low  \\\n",
            "441826    8020    97            106        4  2174  49.65  50.30  49.00   \n",
            "344326    6070    26             25        2  3679  39.50  39.60  39.00   \n",
            "27026     1304    20             38        8  4711  19.04  19.04  18.70   \n",
            "57047     2150   182            198        8  2676  33.40  33.60  32.50   \n",
            "529723    7010   167            174        0   783  79.50  79.50  78.75   \n",
            "\n",
            "        change  perc_Change  volume_traded   value_traded  no_trades   \n",
            "441826    0.47         0.96        666027.0  3.305501e+07      1335.0  \n",
            "344326   -1.00        -2.50         60731.0  2.391846e+06       110.0  \n",
            "27026    -0.24        -1.25        432128.0  8.154186e+06       710.0  \n",
            "57047    -0.90        -2.69        197284.0  6.531849e+06       223.0  \n",
            "529723    0.00         0.00       1666625.0  1.321409e+08       435.0  \n",
            "        symbol  name  trading_name   sectoer  date   open   high    low  \\\n",
            "401819    1090   130            142        4  1937  28.90  28.90  26.10   \n",
            "377002    1020    58             60        4  3033  13.84  13.84  13.66   \n",
            "587467    4300    69             73        9  4445   8.76   8.83   8.74   \n",
            "282022    4190    88             96        1  1170  47.08  47.45  47.08   \n",
            "415667    1180   110            120        4  4300  44.75  44.85  44.60   \n",
            "\n",
            "        change  perc_Change  volume_traded   value_traded  no_trades   \n",
            "401819   -2.82        -9.75       1032262.0   27644625.25       787.0  \n",
            "377002   -0.21        -1.51       1244403.0   17106968.60       447.0  \n",
            "587467    0.00         0.00       3510643.0   30820034.84      1502.0  \n",
            "282022   -0.18        -0.38        294919.0   13931639.50       297.0  \n",
            "415667   -0.03        -0.07        467940.0   20920747.30       247.0  \n"
          ]
        }
      ],
      "source": [
        "X = df.drop('close', axis=1)\n",
        "y = df['close']\n",
        "X_train, X_test, y_train, y_test = train_test_split(X, y, test_size=0.3, random_state=42)\n",
        "numerical_features = X_train.select_dtypes(include=['float64', 'int64']).columns\n",
        "standard_scaler = StandardScaler()\n",
        "min_max_scaler = MinMaxScaler()\n",
        "X_train_standardized = pd.DataFrame(standard_scaler.fit_transform(X_train[numerical_features]), columns=numerical_features, index=X_train.index)\n",
        "X_test_standardized = pd.DataFrame(standard_scaler.transform(X_test[numerical_features]), columns=numerical_features, index=X_test.index)\n",
        "X_train_normalized = pd.DataFrame(min_max_scaler.fit_transform(X_train[numerical_features]), columns=numerical_features, index=X_train.index)\n",
        "X_test_normalized = pd.DataFrame(min_max_scaler.transform(X_test[numerical_features]), columns=numerical_features, index=X_test.index)\n",
        "print(X_train.head())\n",
        "print(X_test.head())"
      ]
    },
    {
      "cell_type": "markdown",
      "metadata": {
        "id": "i-u6CvfXcyWR"
      },
      "source": [
        "Preparing data for analysis or machine learning by identifying features and targets, and splitting the data into training and testing sets. It applies scaling techniques, StandardScaler and MinMaxScaler, to the numerical features to standardize and normalize them, enhancing the performance of algorithms. The result shows a portion of the data after scaling, modified to reflect the applied scaling, facilitating its use in predictive models."
      ]
    },
    {
      "cell_type": "markdown",
      "metadata": {
        "id": "GZ0jJrJD-2Qd"
      },
      "source": [
        "<b><font size=\"5:\" color='#5097A4'>d. Handling Imbalanced Data:</font></b>"
      ]
    },
    {
      "cell_type": "code",
      "execution_count": null,
      "metadata": {
        "colab": {
          "base_uri": "https://localhost:8080/"
        },
        "id": "RFTLiByuw5Mq",
        "outputId": "6b9d3726-3e95-46f1-fa10-f808ffe625c6"
      },
      "outputs": [
        {
          "output_type": "execute_result",
          "data": {
            "text/plain": [
              "sectoer\n",
              "4     154259\n",
              "8     142283\n",
              "2      66008\n",
              "6      64733\n",
              "1      55688\n",
              "9      44663\n",
              "0      22170\n",
              "5      17855\n",
              "3      15803\n",
              "10      9386\n",
              "7        971\n",
              "Name: count, dtype: int64"
            ]
          },
          "metadata": {},
          "execution_count": 16
        }
      ],
      "source": [
        "sectoer_values = df['sectoer'].value_counts()\n",
        "sectoer_values"
      ]
    },
    {
      "cell_type": "code",
      "execution_count": null,
      "metadata": {
        "colab": {
          "base_uri": "https://localhost:8080/"
        },
        "id": "QesfYcRmjg5K",
        "outputId": "0d7b1c11-76fb-49aa-e686-17b3e834feb1"
      },
      "outputs": [
        {
          "output_type": "stream",
          "name": "stdout",
          "text": [
            "Label types: <class 'numpy.ndarray'>\n",
            "Resampled shape: (160, 11) (160,)\n"
          ]
        }
      ],
      "source": [
        "X, y = make_classification(n_classes=2, class_sep=2,\n",
        "                           weights=[0.1, 1.9], n_informative=3, n_redundant=1, flip_y=0,\n",
        "                           n_features=11, n_clusters_per_class=1, n_samples=1000, random_state=10)\n",
        "X_train, X_test, y_train, y_test = train_test_split(X, y, test_size=0.2, random_state=42)\n",
        "print(\"Label types:\", type(y_train))\n",
        "from imblearn.under_sampling import RandomUnderSampler\n",
        "rus = RandomUnderSampler(random_state=42)\n",
        "X_resampled, y_resampled = rus.fit_resample(X_train, y_train)\n",
        "print(\"Resampled shape:\", X_resampled.shape, y_resampled.shape)"
      ]
    },
    {
      "cell_type": "markdown",
      "metadata": {
        "id": "MqeJY95zewCs"
      },
      "source": [
        "\n",
        "The code generates synthetic data, splits it into training and testing sets, and applies the RandomUnderSampler technique to balance the classes in the training data. The result of this process shows that the number of samples has been reduced to 160 for each class, which helps improve the model's prediction accuracy."
      ]
    },
    {
      "cell_type": "markdown",
      "metadata": {
        "id": "V7edD-o2_AkJ"
      },
      "source": [
        "<b><font size=\"6:\" color='#5097A4'>2. Data Separation and Model Selection:</font></b>"
      ]
    },
    {
      "cell_type": "code",
      "execution_count": null,
      "metadata": {
        "colab": {
          "base_uri": "https://localhost:8080/"
        },
        "id": "FX6aJtJkA4R_",
        "outputId": "0d8c2174-8a5a-4704-bc58-eec3fd9de43b"
      },
      "outputs": [
        {
          "output_type": "stream",
          "name": "stdout",
          "text": [
            "Training data shape: (415673, 13)\n",
            "Testing data shape: (178146, 13)\n"
          ]
        }
      ],
      "source": [
        "X = df.drop('close', axis=1)\n",
        "y = df['close']\n",
        "X_train, X_test, y_train, y_test = train_test_split(X, y, test_size=0.3, random_state=42)\n",
        "print(\"Training data shape:\", X_train.shape)\n",
        "print(\"Testing data shape:\", X_test.shape)"
      ]
    },
    {
      "cell_type": "code",
      "execution_count": null,
      "metadata": {
        "colab": {
          "base_uri": "https://localhost:8080/",
          "height": 423
        },
        "id": "3dQwMrIgFll_",
        "outputId": "a3a55e3c-8d5c-4dbe-8698-458feda6a84c"
      },
      "outputs": [
        {
          "output_type": "execute_result",
          "data": {
            "text/plain": [
              "        symbol  name  trading_name   sectoer  date   open   high    low  \\\n",
              "0         2030   133            144        3  4758  35.55  35.85  34.90   \n",
              "1         2030   133            144        3  4757  34.70  35.65  34.50   \n",
              "2         2030   133            144        3  4756  34.70  35.15  34.70   \n",
              "3         2030   133            144        3  4755  35.20  35.65  34.00   \n",
              "4         2030   133            144        3  4754  35.35  35.60  34.25   \n",
              "...        ...   ...            ...      ...   ...    ...    ...    ...   \n",
              "593814    4321    48             32        9  4567  22.90  22.90  21.62   \n",
              "593815    4321    48             32        9  4566  23.30  23.32  22.24   \n",
              "593816    4321    48             32        9  4565  24.60  24.60  23.30   \n",
              "593817    4321    48             32        9  4564  24.80  25.00  24.34   \n",
              "593818    4321    48             32        9  4563  26.00  26.10  23.60   \n",
              "\n",
              "        change  perc_Change  volume_traded   value_traded  no_trades   \n",
              "0        -0.40        -1.13        436609.0  1.539907e+07       804.0  \n",
              "1         0.25         0.71        737624.0  2.598139e+07      1268.0  \n",
              "2         1.05         3.09        489831.0  1.711641e+07       854.0  \n",
              "3        -0.55        -1.59        736157.0  2.585870e+07      1242.0  \n",
              "4        -2.05        -5.60        738685.0  2.574797e+07      1625.0  \n",
              "...        ...          ...             ...           ...         ...  \n",
              "593814    0.00         0.00       1860532.0  4.149566e+07      2023.0  \n",
              "593815   -0.84        -3.60       4905676.0  1.114168e+08      3259.0  \n",
              "593816   -1.16        -4.73       3908215.0  9.269862e+07      2672.0  \n",
              "593817   -0.50        -2.00       4078214.0  1.002221e+08      5571.0  \n",
              "593818   -1.00        -3.85      14220388.0  3.502633e+08      7183.0  \n",
              "\n",
              "[593819 rows x 13 columns]"
            ],
            "text/html": [
              "\n",
              "  <div id=\"df-ae655527-ddf7-42e9-b7c1-69041b6c3cad\" class=\"colab-df-container\">\n",
              "    <div>\n",
              "<style scoped>\n",
              "    .dataframe tbody tr th:only-of-type {\n",
              "        vertical-align: middle;\n",
              "    }\n",
              "\n",
              "    .dataframe tbody tr th {\n",
              "        vertical-align: top;\n",
              "    }\n",
              "\n",
              "    .dataframe thead th {\n",
              "        text-align: right;\n",
              "    }\n",
              "</style>\n",
              "<table border=\"1\" class=\"dataframe\">\n",
              "  <thead>\n",
              "    <tr style=\"text-align: right;\">\n",
              "      <th></th>\n",
              "      <th>symbol</th>\n",
              "      <th>name</th>\n",
              "      <th>trading_name</th>\n",
              "      <th>sectoer</th>\n",
              "      <th>date</th>\n",
              "      <th>open</th>\n",
              "      <th>high</th>\n",
              "      <th>low</th>\n",
              "      <th>change</th>\n",
              "      <th>perc_Change</th>\n",
              "      <th>volume_traded</th>\n",
              "      <th>value_traded</th>\n",
              "      <th>no_trades</th>\n",
              "    </tr>\n",
              "  </thead>\n",
              "  <tbody>\n",
              "    <tr>\n",
              "      <th>0</th>\n",
              "      <td>2030</td>\n",
              "      <td>133</td>\n",
              "      <td>144</td>\n",
              "      <td>3</td>\n",
              "      <td>4758</td>\n",
              "      <td>35.55</td>\n",
              "      <td>35.85</td>\n",
              "      <td>34.90</td>\n",
              "      <td>-0.40</td>\n",
              "      <td>-1.13</td>\n",
              "      <td>436609.0</td>\n",
              "      <td>1.539907e+07</td>\n",
              "      <td>804.0</td>\n",
              "    </tr>\n",
              "    <tr>\n",
              "      <th>1</th>\n",
              "      <td>2030</td>\n",
              "      <td>133</td>\n",
              "      <td>144</td>\n",
              "      <td>3</td>\n",
              "      <td>4757</td>\n",
              "      <td>34.70</td>\n",
              "      <td>35.65</td>\n",
              "      <td>34.50</td>\n",
              "      <td>0.25</td>\n",
              "      <td>0.71</td>\n",
              "      <td>737624.0</td>\n",
              "      <td>2.598139e+07</td>\n",
              "      <td>1268.0</td>\n",
              "    </tr>\n",
              "    <tr>\n",
              "      <th>2</th>\n",
              "      <td>2030</td>\n",
              "      <td>133</td>\n",
              "      <td>144</td>\n",
              "      <td>3</td>\n",
              "      <td>4756</td>\n",
              "      <td>34.70</td>\n",
              "      <td>35.15</td>\n",
              "      <td>34.70</td>\n",
              "      <td>1.05</td>\n",
              "      <td>3.09</td>\n",
              "      <td>489831.0</td>\n",
              "      <td>1.711641e+07</td>\n",
              "      <td>854.0</td>\n",
              "    </tr>\n",
              "    <tr>\n",
              "      <th>3</th>\n",
              "      <td>2030</td>\n",
              "      <td>133</td>\n",
              "      <td>144</td>\n",
              "      <td>3</td>\n",
              "      <td>4755</td>\n",
              "      <td>35.20</td>\n",
              "      <td>35.65</td>\n",
              "      <td>34.00</td>\n",
              "      <td>-0.55</td>\n",
              "      <td>-1.59</td>\n",
              "      <td>736157.0</td>\n",
              "      <td>2.585870e+07</td>\n",
              "      <td>1242.0</td>\n",
              "    </tr>\n",
              "    <tr>\n",
              "      <th>4</th>\n",
              "      <td>2030</td>\n",
              "      <td>133</td>\n",
              "      <td>144</td>\n",
              "      <td>3</td>\n",
              "      <td>4754</td>\n",
              "      <td>35.35</td>\n",
              "      <td>35.60</td>\n",
              "      <td>34.25</td>\n",
              "      <td>-2.05</td>\n",
              "      <td>-5.60</td>\n",
              "      <td>738685.0</td>\n",
              "      <td>2.574797e+07</td>\n",
              "      <td>1625.0</td>\n",
              "    </tr>\n",
              "    <tr>\n",
              "      <th>...</th>\n",
              "      <td>...</td>\n",
              "      <td>...</td>\n",
              "      <td>...</td>\n",
              "      <td>...</td>\n",
              "      <td>...</td>\n",
              "      <td>...</td>\n",
              "      <td>...</td>\n",
              "      <td>...</td>\n",
              "      <td>...</td>\n",
              "      <td>...</td>\n",
              "      <td>...</td>\n",
              "      <td>...</td>\n",
              "      <td>...</td>\n",
              "    </tr>\n",
              "    <tr>\n",
              "      <th>593814</th>\n",
              "      <td>4321</td>\n",
              "      <td>48</td>\n",
              "      <td>32</td>\n",
              "      <td>9</td>\n",
              "      <td>4567</td>\n",
              "      <td>22.90</td>\n",
              "      <td>22.90</td>\n",
              "      <td>21.62</td>\n",
              "      <td>0.00</td>\n",
              "      <td>0.00</td>\n",
              "      <td>1860532.0</td>\n",
              "      <td>4.149566e+07</td>\n",
              "      <td>2023.0</td>\n",
              "    </tr>\n",
              "    <tr>\n",
              "      <th>593815</th>\n",
              "      <td>4321</td>\n",
              "      <td>48</td>\n",
              "      <td>32</td>\n",
              "      <td>9</td>\n",
              "      <td>4566</td>\n",
              "      <td>23.30</td>\n",
              "      <td>23.32</td>\n",
              "      <td>22.24</td>\n",
              "      <td>-0.84</td>\n",
              "      <td>-3.60</td>\n",
              "      <td>4905676.0</td>\n",
              "      <td>1.114168e+08</td>\n",
              "      <td>3259.0</td>\n",
              "    </tr>\n",
              "    <tr>\n",
              "      <th>593816</th>\n",
              "      <td>4321</td>\n",
              "      <td>48</td>\n",
              "      <td>32</td>\n",
              "      <td>9</td>\n",
              "      <td>4565</td>\n",
              "      <td>24.60</td>\n",
              "      <td>24.60</td>\n",
              "      <td>23.30</td>\n",
              "      <td>-1.16</td>\n",
              "      <td>-4.73</td>\n",
              "      <td>3908215.0</td>\n",
              "      <td>9.269862e+07</td>\n",
              "      <td>2672.0</td>\n",
              "    </tr>\n",
              "    <tr>\n",
              "      <th>593817</th>\n",
              "      <td>4321</td>\n",
              "      <td>48</td>\n",
              "      <td>32</td>\n",
              "      <td>9</td>\n",
              "      <td>4564</td>\n",
              "      <td>24.80</td>\n",
              "      <td>25.00</td>\n",
              "      <td>24.34</td>\n",
              "      <td>-0.50</td>\n",
              "      <td>-2.00</td>\n",
              "      <td>4078214.0</td>\n",
              "      <td>1.002221e+08</td>\n",
              "      <td>5571.0</td>\n",
              "    </tr>\n",
              "    <tr>\n",
              "      <th>593818</th>\n",
              "      <td>4321</td>\n",
              "      <td>48</td>\n",
              "      <td>32</td>\n",
              "      <td>9</td>\n",
              "      <td>4563</td>\n",
              "      <td>26.00</td>\n",
              "      <td>26.10</td>\n",
              "      <td>23.60</td>\n",
              "      <td>-1.00</td>\n",
              "      <td>-3.85</td>\n",
              "      <td>14220388.0</td>\n",
              "      <td>3.502633e+08</td>\n",
              "      <td>7183.0</td>\n",
              "    </tr>\n",
              "  </tbody>\n",
              "</table>\n",
              "<p>593819 rows × 13 columns</p>\n",
              "</div>\n",
              "    <div class=\"colab-df-buttons\">\n",
              "\n",
              "  <div class=\"colab-df-container\">\n",
              "    <button class=\"colab-df-convert\" onclick=\"convertToInteractive('df-ae655527-ddf7-42e9-b7c1-69041b6c3cad')\"\n",
              "            title=\"Convert this dataframe to an interactive table.\"\n",
              "            style=\"display:none;\">\n",
              "\n",
              "  <svg xmlns=\"http://www.w3.org/2000/svg\" height=\"24px\" viewBox=\"0 -960 960 960\">\n",
              "    <path d=\"M120-120v-720h720v720H120Zm60-500h600v-160H180v160Zm220 220h160v-160H400v160Zm0 220h160v-160H400v160ZM180-400h160v-160H180v160Zm440 0h160v-160H620v160ZM180-180h160v-160H180v160Zm440 0h160v-160H620v160Z\"/>\n",
              "  </svg>\n",
              "    </button>\n",
              "\n",
              "  <style>\n",
              "    .colab-df-container {\n",
              "      display:flex;\n",
              "      gap: 12px;\n",
              "    }\n",
              "\n",
              "    .colab-df-convert {\n",
              "      background-color: #E8F0FE;\n",
              "      border: none;\n",
              "      border-radius: 50%;\n",
              "      cursor: pointer;\n",
              "      display: none;\n",
              "      fill: #1967D2;\n",
              "      height: 32px;\n",
              "      padding: 0 0 0 0;\n",
              "      width: 32px;\n",
              "    }\n",
              "\n",
              "    .colab-df-convert:hover {\n",
              "      background-color: #E2EBFA;\n",
              "      box-shadow: 0px 1px 2px rgba(60, 64, 67, 0.3), 0px 1px 3px 1px rgba(60, 64, 67, 0.15);\n",
              "      fill: #174EA6;\n",
              "    }\n",
              "\n",
              "    .colab-df-buttons div {\n",
              "      margin-bottom: 4px;\n",
              "    }\n",
              "\n",
              "    [theme=dark] .colab-df-convert {\n",
              "      background-color: #3B4455;\n",
              "      fill: #D2E3FC;\n",
              "    }\n",
              "\n",
              "    [theme=dark] .colab-df-convert:hover {\n",
              "      background-color: #434B5C;\n",
              "      box-shadow: 0px 1px 3px 1px rgba(0, 0, 0, 0.15);\n",
              "      filter: drop-shadow(0px 1px 2px rgba(0, 0, 0, 0.3));\n",
              "      fill: #FFFFFF;\n",
              "    }\n",
              "  </style>\n",
              "\n",
              "    <script>\n",
              "      const buttonEl =\n",
              "        document.querySelector('#df-ae655527-ddf7-42e9-b7c1-69041b6c3cad button.colab-df-convert');\n",
              "      buttonEl.style.display =\n",
              "        google.colab.kernel.accessAllowed ? 'block' : 'none';\n",
              "\n",
              "      async function convertToInteractive(key) {\n",
              "        const element = document.querySelector('#df-ae655527-ddf7-42e9-b7c1-69041b6c3cad');\n",
              "        const dataTable =\n",
              "          await google.colab.kernel.invokeFunction('convertToInteractive',\n",
              "                                                    [key], {});\n",
              "        if (!dataTable) return;\n",
              "\n",
              "        const docLinkHtml = 'Like what you see? Visit the ' +\n",
              "          '<a target=\"_blank\" href=https://colab.research.google.com/notebooks/data_table.ipynb>data table notebook</a>'\n",
              "          + ' to learn more about interactive tables.';\n",
              "        element.innerHTML = '';\n",
              "        dataTable['output_type'] = 'display_data';\n",
              "        await google.colab.output.renderOutput(dataTable, element);\n",
              "        const docLink = document.createElement('div');\n",
              "        docLink.innerHTML = docLinkHtml;\n",
              "        element.appendChild(docLink);\n",
              "      }\n",
              "    </script>\n",
              "  </div>\n",
              "\n",
              "\n",
              "<div id=\"df-fed6b525-4a3b-4a17-866f-e04a5437482a\">\n",
              "  <button class=\"colab-df-quickchart\" onclick=\"quickchart('df-fed6b525-4a3b-4a17-866f-e04a5437482a')\"\n",
              "            title=\"Suggest charts\"\n",
              "            style=\"display:none;\">\n",
              "\n",
              "<svg xmlns=\"http://www.w3.org/2000/svg\" height=\"24px\"viewBox=\"0 0 24 24\"\n",
              "     width=\"24px\">\n",
              "    <g>\n",
              "        <path d=\"M19 3H5c-1.1 0-2 .9-2 2v14c0 1.1.9 2 2 2h14c1.1 0 2-.9 2-2V5c0-1.1-.9-2-2-2zM9 17H7v-7h2v7zm4 0h-2V7h2v10zm4 0h-2v-4h2v4z\"/>\n",
              "    </g>\n",
              "</svg>\n",
              "  </button>\n",
              "\n",
              "<style>\n",
              "  .colab-df-quickchart {\n",
              "      --bg-color: #E8F0FE;\n",
              "      --fill-color: #1967D2;\n",
              "      --hover-bg-color: #E2EBFA;\n",
              "      --hover-fill-color: #174EA6;\n",
              "      --disabled-fill-color: #AAA;\n",
              "      --disabled-bg-color: #DDD;\n",
              "  }\n",
              "\n",
              "  [theme=dark] .colab-df-quickchart {\n",
              "      --bg-color: #3B4455;\n",
              "      --fill-color: #D2E3FC;\n",
              "      --hover-bg-color: #434B5C;\n",
              "      --hover-fill-color: #FFFFFF;\n",
              "      --disabled-bg-color: #3B4455;\n",
              "      --disabled-fill-color: #666;\n",
              "  }\n",
              "\n",
              "  .colab-df-quickchart {\n",
              "    background-color: var(--bg-color);\n",
              "    border: none;\n",
              "    border-radius: 50%;\n",
              "    cursor: pointer;\n",
              "    display: none;\n",
              "    fill: var(--fill-color);\n",
              "    height: 32px;\n",
              "    padding: 0;\n",
              "    width: 32px;\n",
              "  }\n",
              "\n",
              "  .colab-df-quickchart:hover {\n",
              "    background-color: var(--hover-bg-color);\n",
              "    box-shadow: 0 1px 2px rgba(60, 64, 67, 0.3), 0 1px 3px 1px rgba(60, 64, 67, 0.15);\n",
              "    fill: var(--button-hover-fill-color);\n",
              "  }\n",
              "\n",
              "  .colab-df-quickchart-complete:disabled,\n",
              "  .colab-df-quickchart-complete:disabled:hover {\n",
              "    background-color: var(--disabled-bg-color);\n",
              "    fill: var(--disabled-fill-color);\n",
              "    box-shadow: none;\n",
              "  }\n",
              "\n",
              "  .colab-df-spinner {\n",
              "    border: 2px solid var(--fill-color);\n",
              "    border-color: transparent;\n",
              "    border-bottom-color: var(--fill-color);\n",
              "    animation:\n",
              "      spin 1s steps(1) infinite;\n",
              "  }\n",
              "\n",
              "  @keyframes spin {\n",
              "    0% {\n",
              "      border-color: transparent;\n",
              "      border-bottom-color: var(--fill-color);\n",
              "      border-left-color: var(--fill-color);\n",
              "    }\n",
              "    20% {\n",
              "      border-color: transparent;\n",
              "      border-left-color: var(--fill-color);\n",
              "      border-top-color: var(--fill-color);\n",
              "    }\n",
              "    30% {\n",
              "      border-color: transparent;\n",
              "      border-left-color: var(--fill-color);\n",
              "      border-top-color: var(--fill-color);\n",
              "      border-right-color: var(--fill-color);\n",
              "    }\n",
              "    40% {\n",
              "      border-color: transparent;\n",
              "      border-right-color: var(--fill-color);\n",
              "      border-top-color: var(--fill-color);\n",
              "    }\n",
              "    60% {\n",
              "      border-color: transparent;\n",
              "      border-right-color: var(--fill-color);\n",
              "    }\n",
              "    80% {\n",
              "      border-color: transparent;\n",
              "      border-right-color: var(--fill-color);\n",
              "      border-bottom-color: var(--fill-color);\n",
              "    }\n",
              "    90% {\n",
              "      border-color: transparent;\n",
              "      border-bottom-color: var(--fill-color);\n",
              "    }\n",
              "  }\n",
              "</style>\n",
              "\n",
              "  <script>\n",
              "    async function quickchart(key) {\n",
              "      const quickchartButtonEl =\n",
              "        document.querySelector('#' + key + ' button');\n",
              "      quickchartButtonEl.disabled = true;  // To prevent multiple clicks.\n",
              "      quickchartButtonEl.classList.add('colab-df-spinner');\n",
              "      try {\n",
              "        const charts = await google.colab.kernel.invokeFunction(\n",
              "            'suggestCharts', [key], {});\n",
              "      } catch (error) {\n",
              "        console.error('Error during call to suggestCharts:', error);\n",
              "      }\n",
              "      quickchartButtonEl.classList.remove('colab-df-spinner');\n",
              "      quickchartButtonEl.classList.add('colab-df-quickchart-complete');\n",
              "    }\n",
              "    (() => {\n",
              "      let quickchartButtonEl =\n",
              "        document.querySelector('#df-fed6b525-4a3b-4a17-866f-e04a5437482a button');\n",
              "      quickchartButtonEl.style.display =\n",
              "        google.colab.kernel.accessAllowed ? 'block' : 'none';\n",
              "    })();\n",
              "  </script>\n",
              "</div>\n",
              "\n",
              "  <div id=\"id_6153cebb-0a1a-4c4a-ad58-3fa59a30c12d\">\n",
              "    <style>\n",
              "      .colab-df-generate {\n",
              "        background-color: #E8F0FE;\n",
              "        border: none;\n",
              "        border-radius: 50%;\n",
              "        cursor: pointer;\n",
              "        display: none;\n",
              "        fill: #1967D2;\n",
              "        height: 32px;\n",
              "        padding: 0 0 0 0;\n",
              "        width: 32px;\n",
              "      }\n",
              "\n",
              "      .colab-df-generate:hover {\n",
              "        background-color: #E2EBFA;\n",
              "        box-shadow: 0px 1px 2px rgba(60, 64, 67, 0.3), 0px 1px 3px 1px rgba(60, 64, 67, 0.15);\n",
              "        fill: #174EA6;\n",
              "      }\n",
              "\n",
              "      [theme=dark] .colab-df-generate {\n",
              "        background-color: #3B4455;\n",
              "        fill: #D2E3FC;\n",
              "      }\n",
              "\n",
              "      [theme=dark] .colab-df-generate:hover {\n",
              "        background-color: #434B5C;\n",
              "        box-shadow: 0px 1px 3px 1px rgba(0, 0, 0, 0.15);\n",
              "        filter: drop-shadow(0px 1px 2px rgba(0, 0, 0, 0.3));\n",
              "        fill: #FFFFFF;\n",
              "      }\n",
              "    </style>\n",
              "    <button class=\"colab-df-generate\" onclick=\"generateWithVariable('X')\"\n",
              "            title=\"Generate code using this dataframe.\"\n",
              "            style=\"display:none;\">\n",
              "\n",
              "  <svg xmlns=\"http://www.w3.org/2000/svg\" height=\"24px\"viewBox=\"0 0 24 24\"\n",
              "       width=\"24px\">\n",
              "    <path d=\"M7,19H8.4L18.45,9,17,7.55,7,17.6ZM5,21V16.75L18.45,3.32a2,2,0,0,1,2.83,0l1.4,1.43a1.91,1.91,0,0,1,.58,1.4,1.91,1.91,0,0,1-.58,1.4L9.25,21ZM18.45,9,17,7.55Zm-12,3A5.31,5.31,0,0,0,4.9,8.1,5.31,5.31,0,0,0,1,6.5,5.31,5.31,0,0,0,4.9,4.9,5.31,5.31,0,0,0,6.5,1,5.31,5.31,0,0,0,8.1,4.9,5.31,5.31,0,0,0,12,6.5,5.46,5.46,0,0,0,6.5,12Z\"/>\n",
              "  </svg>\n",
              "    </button>\n",
              "    <script>\n",
              "      (() => {\n",
              "      const buttonEl =\n",
              "        document.querySelector('#id_6153cebb-0a1a-4c4a-ad58-3fa59a30c12d button.colab-df-generate');\n",
              "      buttonEl.style.display =\n",
              "        google.colab.kernel.accessAllowed ? 'block' : 'none';\n",
              "\n",
              "      buttonEl.onclick = () => {\n",
              "        google.colab.notebook.generateWithVariable('X');\n",
              "      }\n",
              "      })();\n",
              "    </script>\n",
              "  </div>\n",
              "\n",
              "    </div>\n",
              "  </div>\n"
            ],
            "application/vnd.google.colaboratory.intrinsic+json": {
              "type": "dataframe",
              "variable_name": "X"
            }
          },
          "metadata": {},
          "execution_count": 19
        }
      ],
      "source": [
        "X"
      ]
    },
    {
      "cell_type": "code",
      "execution_count": null,
      "metadata": {
        "colab": {
          "base_uri": "https://localhost:8080/"
        },
        "id": "62muiFSGFvPt",
        "outputId": "99f6f3df-3517-4691-860d-d38dce8a1ef3"
      },
      "outputs": [
        {
          "output_type": "execute_result",
          "data": {
            "text/plain": [
              "0         34.90\n",
              "1         35.30\n",
              "2         35.05\n",
              "3         34.00\n",
              "4         34.55\n",
              "          ...  \n",
              "593814    22.50\n",
              "593815    22.50\n",
              "593816    23.34\n",
              "593817    24.50\n",
              "593818    25.00\n",
              "Name: close, Length: 593819, dtype: float64"
            ]
          },
          "metadata": {},
          "execution_count": 20
        }
      ],
      "source": [
        "y"
      ]
    },
    {
      "cell_type": "code",
      "execution_count": null,
      "metadata": {
        "colab": {
          "base_uri": "https://localhost:8080/"
        },
        "id": "sWFoxVwMmoRk",
        "outputId": "190f950d-717b-43c5-e33b-f0c4d5deb880"
      },
      "outputs": [
        {
          "output_type": "stream",
          "name": "stdout",
          "text": [
            "(415673, 13) (178146, 13)\n",
            "(415673,) (178146,)\n",
            "(415673, 13) (178146, 13)\n",
            "(415673,) (178146,)\n"
          ]
        }
      ],
      "source": [
        "print(X_train.shape, X_test.shape)\n",
        "print(y_train.shape, y_test.shape)\n",
        "y_test = y_test[:len(X_test)]\n",
        "print(X_train.shape, X_test.shape)\n",
        "print(y_train.shape, y_test.shape)"
      ]
    },
    {
      "cell_type": "markdown",
      "metadata": {
        "id": "ChkYjlJbnjSV"
      },
      "source": [
        "The code prints the dimensions of the datasets and the target data, then corrects the dimensions of the test set for the target data to match the number of rows in the test set for the features. The results show the corrected dimensions, confirming alignment between the training and testing sets."
      ]
    },
    {
      "cell_type": "markdown",
      "metadata": {
        "id": "bqUWf7Wix1lv"
      },
      "source": [
        "<center><b><font size=\"4\" color='violet'>\n",
        "Finding the Appropriate Regression Model:</font></b></center>"
      ]
    },
    {
      "cell_type": "code",
      "execution_count": null,
      "metadata": {
        "id": "T9Q8-meMFV-j"
      },
      "outputs": [],
      "source": [
        "def preprocess_data(df):\n",
        "    X = df.iloc[::2, :]\n",
        "    y = df.iloc[1::2, :]\n",
        "    return X, y"
      ]
    },
    {
      "cell_type": "code",
      "execution_count": null,
      "metadata": {
        "id": "c2dz89hxGVZr"
      },
      "outputs": [],
      "source": [
        "X_train, X_test, y_train, y_test = train_test_split(X, y, test_size=0.4, random_state=1)"
      ]
    },
    {
      "cell_type": "markdown",
      "metadata": {
        "id": "qYYN3cZlGNdE"
      },
      "source": [
        "Splitting Data into Training and Testing Sets\n",
        "Here it divides the data into training and testing sets using the train_test_split() function from scikit-learn. The test_size parameter specifies that 40% of the data should be used for testing."
      ]
    },
    {
      "cell_type": "code",
      "execution_count": null,
      "metadata": {
        "colab": {
          "base_uri": "https://localhost:8080/"
        },
        "id": "N5mxH6RvGG6s",
        "outputId": "69048cb1-9712-40d1-f521-0b3cca50aa03"
      },
      "outputs": [
        {
          "output_type": "stream",
          "name": "stdout",
          "text": [
            "Support Vector Regression(SVR) Test score: 0.97\n"
          ]
        }
      ],
      "source": [
        "X = df.drop('close', axis=1)\n",
        "y = df['close']\n",
        "X_sampled, _, y_sampled, _ = train_test_split(X, y, test_size=0.8, random_state=42)\n",
        "X_train, X_test, y_train, y_test = train_test_split(X_sampled, y_sampled, test_size=0.3, random_state=42)\n",
        "numeric_features = X_train.select_dtypes(include=['int64', 'float64']).columns\n",
        "numeric_transformer = Pipeline(steps=[\n",
        "    ('imputer', SimpleImputer(strategy='mean')),\n",
        "    ('scaler', StandardScaler()),\n",
        "    ('pca', PCA(n_components=2))\n",
        "])\n",
        "categorical_features = X_train.select_dtypes(include=['object']).columns\n",
        "categorical_transformer = Pipeline(steps=[\n",
        "    ('imputer', SimpleImputer(strategy='most_frequent')),\n",
        "    ('onehot', OneHotEncoder(handle_unknown='ignore', sparse_output=False))\n",
        "])\n",
        "preprocessor = ColumnTransformer(\n",
        "    transformers=[\n",
        "        ('num', numeric_transformer, numeric_features),\n",
        "        ('cat', categorical_transformer, categorical_features)\n",
        "    ])\n",
        "svr_pipeline = Pipeline([\n",
        "    ('preprocessor', preprocessor),\n",
        "    ('svr', LinearSVR(random_state=42, max_iter=500))\n",
        "])\n",
        "svr_pipeline.fit(X_train, y_train)\n",
        "print(\"Support Vector Regression(SVR) Test score: {:.2f}\".format(svr_pipeline.score(X_test, y_test)))"
      ]
    },
    {
      "cell_type": "code",
      "execution_count": null,
      "metadata": {
        "colab": {
          "base_uri": "https://localhost:8080/"
        },
        "id": "RM4JgX3WtaP-",
        "outputId": "143b6698-5fb6-486d-c21b-026404d6a340"
      },
      "outputs": [
        {
          "output_type": "stream",
          "name": "stdout",
          "text": [
            "(Random Forest Regressor) Test score: 0.98\n"
          ]
        }
      ],
      "source": [
        "X = df.drop('close', axis=1)\n",
        "y = df['close'] + np.random.normal(0, 0.1, size=df.shape[0])\n",
        "X_train, X_test, y_train, y_test = train_test_split(X, y, test_size=0.5, random_state=42)\n",
        "numeric_features = X_train.select_dtypes(include=['int64', 'float64']).columns\n",
        "categorical_features = X_train.select_dtypes(include=['object']).columns\n",
        "numeric_transformer = Pipeline([\n",
        "    ('imputer', SimpleImputer(strategy='mean')),\n",
        "    ('scaler', StandardScaler())\n",
        "])\n",
        "categorical_transformer = Pipeline([\n",
        "    ('imputer', SimpleImputer(strategy='most_frequent')),\n",
        "    ('onehot', OneHotEncoder(handle_unknown='ignore'))\n",
        "])\n",
        "preprocessor = ColumnTransformer([\n",
        "    ('num', numeric_transformer, numeric_features),\n",
        "    ('cat', categorical_transformer, categorical_features)\n",
        "])\n",
        "pipeline = Pipeline([\n",
        "    ('preprocessor', preprocessor),\n",
        "    ('regressor', RandomForestRegressor(n_estimators=10, max_depth=5, max_features='sqrt', min_samples_split=20, n_jobs=-1, random_state=42))\n",
        "])\n",
        "pipeline.fit(X_train, y_train)\n",
        "print(\"(Random Forest Regressor) Test score: {:.2f}\".format(pipeline.score(X_test, y_test)))"
      ]
    },
    {
      "cell_type": "code",
      "execution_count": null,
      "metadata": {
        "colab": {
          "base_uri": "https://localhost:8080/"
        },
        "id": "XdufRN1zzrUZ",
        "outputId": "70bc3ed3-d7a3-447e-b3a4-01c0e45a8b54"
      },
      "outputs": [
        {
          "output_type": "stream",
          "name": "stdout",
          "text": [
            "(Linear Regression) Test score: 0.99\n"
          ]
        }
      ],
      "source": [
        "X = df.drop('close', axis=1)\n",
        "y = df['close']\n",
        "X_sampled, _, y_sampled, _ = train_test_split(X, y, test_size=0.8, random_state=42)\n",
        "X_train, X_test, y_train, y_test = train_test_split(X_sampled, y_sampled, test_size=0.3, random_state=42)\n",
        "numeric_features = X_train.select_dtypes(include=['int64', 'float64']).columns\n",
        "numeric_transformer = Pipeline(steps=[\n",
        "    ('imputer', SimpleImputer(strategy='mean')),\n",
        "    ('scaler', StandardScaler()),\n",
        "    ('pca', PCA(n_components=5))\n",
        "])\n",
        "categorical_features = X_train.select_dtypes(include=['object']).columns\n",
        "categorical_transformer = Pipeline(steps=[\n",
        "    ('imputer', SimpleImputer(strategy='most_frequent')),\n",
        "    ('onehot', OneHotEncoder(handle_unknown='ignore', sparse_output=False))\n",
        "])\n",
        "preprocessor = ColumnTransformer(\n",
        "    transformers=[\n",
        "        ('num', numeric_transformer, numeric_features),\n",
        "        ('cat', categorical_transformer, categorical_features)\n",
        "    ])\n",
        "regression_pipeline = Pipeline([\n",
        "    ('preprocessor', preprocessor),\n",
        "    ('linear_regression', LinearRegression())\n",
        "])\n",
        "regression_pipeline.fit(X_train, y_train)\n",
        "print(\"(Linear Regression) Test score: {:.2f}\".format(regression_pipeline.score(X_test, y_test)))"
      ]
    },
    {
      "cell_type": "markdown",
      "metadata": {
        "id": "qrUvJGjb_GOf"
      },
      "source": [
        "<b><font size=\"6:\" color='#5097A4'>3. Model Training and Evaluation:</font></b>"
      ]
    },
    {
      "cell_type": "markdown",
      "metadata": {
        "id": "Pv1jc0A4Dhbi"
      },
      "source": [
        "<center><b><font size=\"4\" color='violet'>\n",
        "Evaluation method for linear regression model:</font></b></center>"
      ]
    },
    {
      "cell_type": "code",
      "execution_count": null,
      "metadata": {
        "colab": {
          "base_uri": "https://localhost:8080/"
        },
        "id": "gt8EUwPQD3L0",
        "outputId": "863b6d9a-a60a-47db-baff-762f215cd42b"
      },
      "outputs": [
        {
          "output_type": "stream",
          "name": "stdout",
          "text": [
            "Mean Absolute Error (MAE): 0.7522\n",
            "Mean Squared Error (MSE): 11.3958\n",
            "Root Mean Squared Error (RMSE): 3.3758\n",
            "R-squared (R2): 0.9982\n"
          ]
        }
      ],
      "source": [
        "X = df.drop('close', axis=1)\n",
        "y = df['close']\n",
        "X_sampled, _, y_sampled, _ = train_test_split(X, y, test_size=0.8, random_state=42)\n",
        "X_train, X_test, y_train, y_test = train_test_split(X_sampled, y_sampled, test_size=0.3, random_state=42)\n",
        "numeric_features = X_train.select_dtypes(include=['int64', 'float64']).columns\n",
        "numeric_transformer = Pipeline(steps=[\n",
        "    ('imputer', SimpleImputer(strategy='mean')),\n",
        "    ('scaler', StandardScaler()),\n",
        "    ('pca', PCA(n_components=min(len(X_train), len(numeric_features))))\n",
        "])\n",
        "categorical_features = X_train.select_dtypes(include=['object']).columns\n",
        "categorical_transformer = Pipeline(steps=[\n",
        "    ('imputer', SimpleImputer(strategy='most_frequent')),\n",
        "    ('onehot', OneHotEncoder(handle_unknown='ignore', sparse_output=False))\n",
        "])\n",
        "preprocessor = ColumnTransformer(\n",
        "    transformers=[\n",
        "        ('num', numeric_transformer, numeric_features),\n",
        "        ('cat', categorical_transformer, categorical_features)\n",
        "    ])\n",
        "regression_pipeline = Pipeline([\n",
        "    ('preprocessor', preprocessor),\n",
        "    ('linear_regression', LinearRegression())\n",
        "])\n",
        "regression_pipeline.fit(X_train, y_train)\n",
        "y_pred = regression_pipeline.predict(X_test)\n",
        "mae = mean_absolute_error(y_test, y_pred)\n",
        "mse = mean_squared_error(y_test, y_pred)\n",
        "rmse = np.sqrt(mse)\n",
        "r2 = r2_score(y_test, y_pred)\n",
        "print(f\"Mean Absolute Error (MAE): {mae:.4f}\")\n",
        "print(f\"Mean Squared Error (MSE): {mse:.4f}\")\n",
        "print(f\"Root Mean Squared Error (RMSE): {rmse:.4f}\")\n",
        "print(f\"R-squared (R2): {r2:.4f}\")"
      ]
    },
    {
      "cell_type": "markdown",
      "metadata": {
        "id": "OTt4kOOW3jxc"
      },
      "source": [
        "\n",
        "The code performs linear regression analysis on a given dataset. It starts by preparing the data, then samples a portion for faster analysis. Next, the data is split into training and testing sets. Numeric and categorical features are preprocessed using different transformers. Subsequently, a pipeline is created to train a linear regression model using the preprocessed data. Finally, the model's performance is evaluated using various metrics like MAE, MSE, RMSE, and R2.\n",
        "\n",
        "MAE (0.7522): The mean absolute error between the predictions and the actual values is small, indicating high accuracy of the model. MSE (11.3958) and RMSE (3.3758): These values reflect low errors in the predictions overall. R-squared (0.9982): The model explains 99.82% of the variance in the target variable, demonstrating excellent performance."
      ]
    },
    {
      "cell_type": "code",
      "execution_count": null,
      "metadata": {
        "colab": {
          "base_uri": "https://localhost:8080/",
          "height": 333
        },
        "id": "4of2-6uKw48d",
        "outputId": "702a683f-9e95-42ea-d49e-962161e5232a"
      },
      "outputs": [
        {
          "output_type": "display_data",
          "data": {
            "text/plain": [
              "<Figure size 600x300 with 1 Axes>"
            ],
            "image/png": "[encoded data removed]"
          },
          "metadata": {}
        }
      ],
      "source": [
        "X = np.random.rand(100, 1) * 100\n",
        "y = X * 2 + np.random.normal(0, 10, size=(100, 1)).ravel()\n",
        "X_train, X_test, y_train, y_test = train_test_split(X, y, test_size=0.2, random_state=42)\n",
        "model = LinearRegression()\n",
        "model.fit(X_train, y_train)\n",
        "predictions = model.predict(X_test)\n",
        "plt.figure(figsize=(6, 3))\n",
        "plt.scatter(y_test, predictions, alpha=0.3)\n",
        "plt.plot([y_test.min(), y_test.max()], [y_test.min(), y_test.max()], '--r', linewidth=2)\n",
        "plt.xlabel('Actual')\n",
        "plt.ylabel('Predicted')\n",
        "plt.title('Prediction Error Plot')\n",
        "plt.show()"
      ]
    },
    {
      "cell_type": "markdown",
      "metadata": {
        "id": "b8VKjOKtz9W5"
      },
      "source": [
        "Random data is generated to test a linear regression model, which is then trained on a subset and tested on the remaining data. After training, the model is used to predict new values and compare them to actual values. The resulting plot displays these predictions against the actual values; the red dashed line represents the ideal relationship, and the scatter of points around it illustrates the model's accuracy."
      ]
    },
    {
      "cell_type": "markdown",
      "metadata": {
        "id": "7jhtqX4M_MFI"
      },
      "source": [
        "<b><font size=\"6:\" color='#5097A4'>4. Optimization and hyperparameters Tuning:</font></b>\n",
        "\n"
      ]
    },
    {
      "cell_type": "code",
      "execution_count": null,
      "metadata": {
        "colab": {
          "base_uri": "https://localhost:8080/"
        },
        "id": "7AQmQ122qDjV",
        "outputId": "dab31871-71a6-4f86-9f09-be4c53c32fb4"
      },
      "outputs": [
        {
          "output_type": "stream",
          "name": "stdout",
          "text": [
            "Fitting 2 folds for each of 3 candidates, totalling 6 fits\n",
            "Best parameters found: {'regressor__n_estimators': 10, 'regressor__min_samples_split': 4, 'regressor__min_samples_leaf': 2, 'regressor__max_depth': None}\n",
            "Best score: 383.4294299249812\n",
            "Test Mean Squared Error: 86.2244199411078\n"
          ]
        }
      ],
      "source": [
        "X = df.drop('close', axis=1)\n",
        "y = df['close']\n",
        "X.fillna(X.mean(), inplace=True)\n",
        "y.fillna(y.mean(), inplace=True)\n",
        "X_sample = X.sample(frac=0.05, random_state=42)\n",
        "y_sample = y.loc[X_sample.index]\n",
        "X_train, X_test, y_train, y_test = train_test_split(X_sample, y_sample, test_size=0.2, random_state=42)\n",
        "pipeline = Pipeline([\n",
        "    ('scaler', StandardScaler()),\n",
        "    ('regressor', RandomForestRegressor(random_state=42))\n",
        "])\n",
        "param_grid = {\n",
        "    'regressor__n_estimators': [10, 50],\n",
        "    'regressor__max_depth': [None, 10],\n",
        "    'regressor__min_samples_split': [4],\n",
        "    'regressor__min_samples_leaf': [2]\n",
        "}\n",
        "random_search = RandomizedSearchCV(\n",
        "    pipeline,\n",
        "    param_grid,\n",
        "    n_iter=3,\n",
        "    cv=2,\n",
        "    verbose=2,\n",
        "    scoring='neg_mean_squared_error',\n",
        "    n_jobs=-1,\n",
        "    random_state=42,\n",
        "    error_score='raise'\n",
        ")\n",
        "try:\n",
        "    random_search.fit(X_train, y_train)\n",
        "    print(\"Best parameters found:\", random_search.best_params_)\n",
        "    print(\"Best score:\", -random_search.best_score_)\n",
        "    y_pred = random_search.predict(X_test)\n",
        "    mse = mean_squared_error(y_test, y_pred)\n",
        "    print(\"Test Mean Squared Error:\", mse)\n",
        "except Exception as e:\n",
        "    print(\"Error during model fitting:\", e)"
      ]
    },
    {
      "cell_type": "markdown",
      "metadata": {
        "id": "qNyCuSVU-XmS"
      },
      "source": [
        "The code employs RandomizedSearchCV for hyperparameter tuning to optimize the RandomForestRegressor by adjusting key parameters like the number of trees (n_estimators), tree depth (max_depth), and minimum samples per node and leaf. This approach efficiently identifies the optimal model settings to minimize prediction errors.\n",
        "\n",
        "The best result obtained was 383.43, which serves as an indicator of good model performance during the optimization process using RandomizedSearchCV. This is measured using the negative mean squared error, meaning that the lower the score, the better the model's performance.\n",
        "\n",
        "In testing the model on new data, the mean squared error was 86.22. This low error rate indicates that the model made highly accurate predictions compared to the actual data, demonstrating the model's effectiveness in handling data it had not seen during training."
      ]
    }
  ],
  "metadata": {
    "colab": {
      "provenance": []
    },
    "kernelspec": {
      "display_name": "Python 3",
      "name": "python3"
    },
    "language_info": {
      "name": "python"
    }
  },
  "nbformat": 4,
  "nbformat_minor": 0
}